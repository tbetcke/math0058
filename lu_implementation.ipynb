{
 "cells": [
  {
   "cell_type": "markdown",
   "metadata": {},
   "source": [
    "# Our own implementation of the LU Decomposition"
   ]
  },
  {
   "cell_type": "code",
   "execution_count": 4,
   "metadata": {},
   "outputs": [],
   "source": [
    "import numpy as np"
   ]
  },
  {
   "cell_type": "code",
   "execution_count": 5,
   "metadata": {},
   "outputs": [],
   "source": [
    "def my_lu(A):\n",
    "    \"\"\"\n",
    "    Implement the LU Decomposition of A.\n",
    "    \n",
    "    This function returns a tuple of two matrices L and U,\n",
    "    that together form the LU Decomposition of A such that\n",
    "    A = LU.\n",
    "    \"\"\"\n",
    "    \n",
    "    # Return an error if the matrix is not square\n",
    "    if not A.shape[0] == A.shape[1]:\n",
    "        raise ValueError(\"Input must be square.\")\n",
    "        \n",
    "    n = A.shape[0]\n",
    "    \n",
    "    L = np.zeros((n, n), dtype=np.float64)\n",
    "    U = np.zeros((n, n), dtype=np.float64)\n",
    "    p = np.arange(n)\n",
    "    U[:] = A\n",
    "    np.fill_diagonal(L, 1)\n",
    "    \n",
    "    for i in range(n - 1):\n",
    "        max_index = i + np.argmax(np.abs(U[i:, i]))\n",
    "        U[[i, max_index], :] = U[[max_index, i], :]\n",
    "        L[[i, max_index], :i] = L[[max_index, i], :i]\n",
    "        p[[i, max_index]] = p[[max_index, i]]\n",
    "        for row in range(i + 1, n):\n",
    "            L[row, i] = U[row, i] / U[i, i]\n",
    "            U[row, i:] = U[row, i:] - L[row, i] * U[i, i:]\n",
    "            U[row, i] = 0\n",
    "            \n",
    "    P = np.eye(n)[p, :]\n",
    "    return P, L, U"
   ]
  },
  {
   "cell_type": "code",
   "execution_count": 8,
   "metadata": {},
   "outputs": [
    {
     "name": "stdout",
     "output_type": "stream",
     "text": [
      "4.9433747022116635e-15\n"
     ]
    }
   ],
   "source": [
    "n = 500\n",
    "\n",
    "rand = np.random.RandomState(0)\n",
    "\n",
    "A = rand.randn(n, n)\n",
    "\n",
    "P, L, U = my_lu(A)\n",
    "\n",
    "residual = np.linalg.norm(P @ A - L @ U, np.inf) / np.linalg.norm(A, np.inf)\n",
    "print(residual)"
   ]
  },
  {
   "cell_type": "code",
   "execution_count": 11,
   "metadata": {},
   "outputs": [],
   "source": [
    "from scipy.linalg import lu, lu_factor, lu_solve"
   ]
  },
  {
   "cell_type": "code",
   "execution_count": 13,
   "metadata": {},
   "outputs": [],
   "source": [
    "lu, piv = lu_factor(A)"
   ]
  },
  {
   "cell_type": "code",
   "execution_count": 15,
   "metadata": {},
   "outputs": [],
   "source": [
    "b = np.random.randn(n)\n",
    "x = lu_solve((lu, piv), b)"
   ]
  },
  {
   "cell_type": "code",
   "execution_count": 40,
   "metadata": {},
   "outputs": [
    {
     "name": "stdout",
     "output_type": "stream",
     "text": [
      "428 ms ± 14 ms per loop (mean ± std. dev. of 7 runs, 1 loop each)\n",
      "34.7 ms ± 11.6 ms per loop (mean ± std. dev. of 7 runs, 100 loops each)\n"
     ]
    }
   ],
   "source": [
    "from scipy.linalg import lu\n",
    "\n",
    "n = 500\n",
    "A = rand.randn(n, n)\n",
    "\n",
    "%timeit my_lu(A)\n",
    "%timeit lu(A)\n",
    "\n"
   ]
  },
  {
   "cell_type": "code",
   "execution_count": 44,
   "metadata": {},
   "outputs": [],
   "source": [
    "from scipy.linalg import solve_triangular\n",
    "\n",
    "b = rand.randn(n)\n",
    "\n",
    "x = solve_triangular(U,\n",
    "        solve_triangular(L, b, lower=True),\n",
    "                    )"
   ]
  },
  {
   "cell_type": "code",
   "execution_count": 46,
   "metadata": {},
   "outputs": [
    {
     "name": "stdout",
     "output_type": "stream",
     "text": [
      "1.8457353823417516e-13\n"
     ]
    }
   ],
   "source": [
    "relative_residual = np.linalg.norm(b - A @ x) / (np.linalg.norm(A) * np.linalg.norm(x))\n",
    "print(relative_residual)"
   ]
  },
  {
   "cell_type": "code",
   "execution_count": 47,
   "metadata": {},
   "outputs": [],
   "source": [
    "x = np.linalg.solve(A, b)"
   ]
  },
  {
   "cell_type": "code",
   "execution_count": 49,
   "metadata": {},
   "outputs": [
    {
     "name": "stdout",
     "output_type": "stream",
     "text": [
      "Help on function lu_factor in module scipy.linalg.decomp_lu:\n",
      "\n",
      "lu_factor(a, overwrite_a=False, check_finite=True)\n",
      "    Compute pivoted LU decomposition of a matrix.\n",
      "    \n",
      "    The decomposition is::\n",
      "    \n",
      "        A = P L U\n",
      "    \n",
      "    where P is a permutation matrix, L lower triangular with unit\n",
      "    diagonal elements, and U upper triangular.\n",
      "    \n",
      "    Parameters\n",
      "    ----------\n",
      "    a : (M, M) array_like\n",
      "        Matrix to decompose\n",
      "    overwrite_a : bool, optional\n",
      "        Whether to overwrite data in A (may increase performance)\n",
      "    check_finite : bool, optional\n",
      "        Whether to check that the input matrix contains only finite numbers.\n",
      "        Disabling may give a performance gain, but may result in problems\n",
      "        (crashes, non-termination) if the inputs do contain infinities or NaNs.\n",
      "    \n",
      "    Returns\n",
      "    -------\n",
      "    lu : (N, N) ndarray\n",
      "        Matrix containing U in its upper triangle, and L in its lower triangle.\n",
      "        The unit diagonal elements of L are not stored.\n",
      "    piv : (N,) ndarray\n",
      "        Pivot indices representing the permutation matrix P:\n",
      "        row i of matrix was interchanged with row piv[i].\n",
      "    \n",
      "    See also\n",
      "    --------\n",
      "    lu_solve : solve an equation system using the LU factorization of a matrix\n",
      "    \n",
      "    Notes\n",
      "    -----\n",
      "    This is a wrapper to the ``*GETRF`` routines from LAPACK.\n",
      "    \n",
      "    Examples\n",
      "    --------\n",
      "    >>> from scipy.linalg import lu_factor\n",
      "    >>> A = np.array([[2, 5, 8, 7], [5, 2, 2, 8], [7, 5, 6, 6], [5, 4, 4, 8]])\n",
      "    >>> lu, piv = lu_factor(A)\n",
      "    >>> piv\n",
      "    array([2, 2, 3, 3], dtype=int32)\n",
      "    \n",
      "    Convert LAPACK's ``piv`` array to NumPy index and test the permutation\n",
      "    \n",
      "    >>> piv_py = [2, 0, 3, 1]\n",
      "    >>> L, U = np.tril(lu, k=-1) + np.eye(4), np.triu(lu)\n",
      "    >>> np.allclose(A[piv_py] - L @ U, np.zeros((4, 4)))\n",
      "    True\n",
      "\n"
     ]
    }
   ],
   "source": [
    "from scipy.linalg import lu_factor\n",
    "help(lu_factor)"
   ]
  },
  {
   "cell_type": "code",
   "execution_count": null,
   "metadata": {},
   "outputs": [],
   "source": []
  }
 ],
 "metadata": {
  "kernelspec": {
   "display_name": "Python [conda env:dev]",
   "language": "python",
   "name": "conda-env-dev-py"
  },
  "language_info": {
   "codemirror_mode": {
    "name": "ipython",
    "version": 3
   },
   "file_extension": ".py",
   "mimetype": "text/x-python",
   "name": "python",
   "nbconvert_exporter": "python",
   "pygments_lexer": "ipython3",
   "version": "3.8.6"
  }
 },
 "nbformat": 4,
 "nbformat_minor": 4
}
