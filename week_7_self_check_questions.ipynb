{
 "cells": [
  {
   "cell_type": "markdown",
   "metadata": {},
   "source": [
    "# Week 7 Self Check Questions"
   ]
  },
  {
   "cell_type": "markdown",
   "metadata": {},
   "source": [
    "1.) Prove that every square matrix $A\\in\\mathbb{C}^{n\\times n}$ has a Schur decomposition.\n",
    "\n",
    "Proceed similarly as for the prove of the SVD. But instead of starting with a vector $v_1$ that gives $Av_1=\\sigma_1 u_1$, start with an eigenvector $x$ with associated eigenvalue $\\lambda$ such that $Ax=\\lambda x$ to construct a suitable matrix $Q$ such that\n",
    "\n",
    "$$\n",
    "Q^HAQ = \\begin{bmatrix}\\lambda & w^H\\\\ 0 & B\\end{bmatrix}.\n",
    "$$\n",
    "\n",
    "Do you need to prove that $w$ is zero?"
   ]
  },
  {
   "cell_type": "markdown",
   "metadata": {},
   "source": [
    "2.) Let $A\\in\\mathbb{R}^{m\\times n}$ with $m\\geq n$. Show that the smallest singular value $\\sigma_n$ of $A$ satisfies\n",
    "\n",
    "$$\n",
    "\\sigma_n = \\min_{x\\in\\mathbb{R}^n} \\frac{\\|Ax\\|_2}{\\|x\\|_2}.\n",
    "$$"
   ]
  },
  {
   "cell_type": "markdown",
   "metadata": {},
   "source": [
    "3.) Let $A\\in\\mathbb{C}^{n\\times n}$. For $z\\in\\mathbb{C}$ the following statements are given.\n",
    "\n",
    "* $z$ is an eigenvalue of $A+\\delta A$ for some $\\delta A$ with $\\|\\delta A\\|_2\\leq\\epsilon$.\n",
    "* There exists a vector $u\\in\\mathbb{C}^m$ with $\\|(A-zI)u\\|_2\\leq \\epsilon$ and $\\|u\\|_2=1$.\n",
    "* $\\sigma_n(zI-A)\\leq\\epsilon$, where $\\sigma_n(zI-A)$ is the smallest singular value of $zI-A$.\n",
    "* $\\|(zI-A)^{-1}\\|_2\\geq\\epsilon^{-1}$\n",
    "\n",
    "Prove that these statements are equivalent by showing that $\\textrm{(i)}\\rightarrow \\textrm{(ii)}\\rightarrow\\textrm{(iii)}\\rightarrow\\textrm{(iv)}\\rightarrow\\textrm{(i)}$."
   ]
  },
  {
   "cell_type": "markdown",
   "metadata": {},
   "source": [
    "4.) Let $A\\in\\mathbb{C}^{n\\times n}$ be diagonalizable and $\\lambda$ an eigenvalue of $A$ with associated right eigenvector $x$ and left eigenvector $y$. Consider the perturbed eigenvalue equation \n",
    "\n",
    "$$\n",
    "(A + \\delta A)(x+ \\delta x) = (\\lambda + \\delta \\lambda)(x + \\delta x).\n",
    "$$\n",
    "\n",
    "To first order show that $|\\delta\\lambda| \\leq \\frac{\\|x\\| \\|y\\|}{|y^H\\delta Ax|}  \\|\\delta A\\|$."
   ]
  },
  {
   "cell_type": "markdown",
   "metadata": {},
   "source": [
    "5.)  Let $A = \\begin{bmatrix}a & c\\\\0 & b\\end{bmatrix}$ for real numbers $a, b, c$ and $a\\neq b$. Show that the condition numbers of the eigenvalues of $A$ asymptotically grow like $|\\frac{c}{b-a}|$ as $b\\rightarrow a$."
   ]
  }
 ],
 "metadata": {
  "kernelspec": {
   "display_name": "Python [conda env:dev]",
   "language": "python",
   "name": "conda-env-dev-py"
  },
  "language_info": {
   "codemirror_mode": {
    "name": "ipython",
    "version": 3
   },
   "file_extension": ".py",
   "mimetype": "text/x-python",
   "name": "python",
   "nbconvert_exporter": "python",
   "pygments_lexer": "ipython3",
   "version": "3.8.6"
  }
 },
 "nbformat": 4,
 "nbformat_minor": 4
}
