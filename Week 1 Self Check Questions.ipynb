{
 "cells": [
  {
   "cell_type": "markdown",
   "metadata": {},
   "source": [
    "# Week 1 Self Check Questions"
   ]
  },
  {
   "cell_type": "markdown",
   "metadata": {},
   "source": [
    "**Question 1:** \n",
    "\n",
    "Let $A\\in\\mathbb{R}^{m\\times n}$. Proof that\n",
    "\n",
    "* $\\|A\\|_1 = \\max_j \\sum_i|a_{ij}|$.\n",
    "* $\\|A\\|_{\\infty} = \\max_i \\sum_j|a_{ij}|$.\n",
    "\n",
    "Note: It follows that $\\|A\\|_1 = \\|A^T\\|_{\\infty}$."
   ]
  },
  {
   "cell_type": "markdown",
   "metadata": {},
   "source": [
    "**Question 2:**\n",
    "\n",
    "For the matrix $A = \\begin{bmatrix} 2 & 3 \\\\ 0 & 1\\end{bmatrix}$ compute $\\|A|_p$ for $p=1, 2, \\infty, F$."
   ]
  },
  {
   "cell_type": "markdown",
   "metadata": {},
   "source": [
    "**Question 3:**\n",
    "\n",
    "Show that $\\|A\\|_{\\infty} = \\lim_{p\\rightarrow\\infty} \\|A\\|_p$."
   ]
  },
  {
   "cell_type": "markdown",
   "metadata": {},
   "source": [
    "**Question 4:**"
   ]
  },
  {
   "cell_type": "markdown",
   "metadata": {},
   "source": [
    "Explain the meaning of $\\epsilon_{mach}$."
   ]
  },
  {
   "cell_type": "markdown",
   "metadata": {},
   "source": [
    "**Question 5**:\n",
    "\n",
    "Why do double precision numbers  give you around 15 digits of accuracy?"
   ]
  }
 ],
 "metadata": {
  "kernelspec": {
   "display_name": "Python [conda env:dev]",
   "language": "python",
   "name": "conda-env-dev-py"
  },
  "language_info": {
   "codemirror_mode": {
    "name": "ipython",
    "version": 3
   },
   "file_extension": ".py",
   "mimetype": "text/x-python",
   "name": "python",
   "nbconvert_exporter": "python",
   "pygments_lexer": "ipython3",
   "version": "3.8.6"
  }
 },
 "nbformat": 4,
 "nbformat_minor": 4
}
