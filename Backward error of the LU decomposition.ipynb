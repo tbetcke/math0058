{
 "cells": [
  {
   "cell_type": "markdown",
   "metadata": {
    "slideshow": {
     "slide_type": "slide"
    }
   },
   "source": [
    "\n",
    "## Backward error of the LU decomposition"
   ]
  },
  {
   "cell_type": "markdown",
   "metadata": {
    "slideshow": {
     "slide_type": "slide"
    }
   },
   "source": [
    "## An almost backward error result\n",
    "\n",
    "**Theorem**\n",
    "Let the factorization $A=LU$ of a nonsingular matrix $A\\in\\mathbb{R}^{m\\times m}$ be computed by Gaussian elimination without pivoting. If $A$ has an LU factorization, then for all sufficiently small $\\epsilon_{mach}$, the factorization completes successfully in floating point arithmetic, and the computed matrices $\\tilde{L}$ and $\\tilde{U}$ satisfy\n",
    "\n",
    "$$\\tilde{L}\\tilde{U} = A+\\delta A,\\quad \\frac{\\|\\delta A\\|}{\\|L\\|\\|U\\|} = \\mathcal{O}(\\epsilon_{mach})$$\n",
    "\n",
    "for some $\\delta A\\in\\mathbb{R}^{m\\times m}$."
   ]
  },
  {
   "cell_type": "markdown",
   "metadata": {
    "slideshow": {
     "slide_type": "subslide"
    }
   },
   "source": [
    "Does the above theorem tell us that LU decomposition is backward stable? No, it doesn't!! The crucial fact is that the error is measured relative to $\\|L\\|\\|U\\|$. But the backward error is a measure relative to $\\|A\\|$. Hence, backward stability follows only if $\\|L\\|\\|U\\|\\approx \\|A\\|$."
   ]
  },
  {
   "cell_type": "markdown",
   "metadata": {
    "slideshow": {
     "slide_type": "subslide"
    }
   },
   "source": [
    "Consider again the example with\n",
    "\n",
    "$$\n",
    "A_{\\epsilon} = \\begin{bmatrix}\\epsilon & 1\\\\ 1 & 1\\end{bmatrix}.\n",
    "$$\n",
    "\n",
    "We have\n",
    "$$\n",
    "A_{\\epsilon} = \\begin{bmatrix}1 & 0 \\\\ \\epsilon^{-1} & 1\\end{bmatrix}\\begin{bmatrix}\\epsilon & 1 \\\\ 0 & 1-\\epsilon^{-1}\\end{bmatrix}\n",
    "$$\n",
    "\n",
    "Hence, $\\|L\\|\\|U\\|\\approx \\epsilon^{-2}$ for very small $\\epsilon$. But $\\|A_\\epsilon\\|=\\mathcal{O}(1)$, and we cannot expect backward stability. Indeed, we showed that for small $\\epsilon$ the LU is not backward stable in this example."
   ]
  },
  {
   "cell_type": "markdown",
   "metadata": {
    "slideshow": {
     "slide_type": "slide"
    }
   },
   "source": [
    "## Growth Factors\n",
    "\n",
    "**Definition (Growth factor)**\n",
    "The growth factor $\\rho$ is defined as the ratio\n",
    "$$\n",
    "\\rho:=\\frac{\\max_{ij}|u_{ij}|}{\\max_{ij}|a_{ij}|}.\n",
    "$$\n",
    "\n",
    "In Gaussian elimination with partial pivoting we have $\\|L\\| = \\mathcal{O}(1)$ since $|\\ell_{ij}|\\leq 1$ for all multipliers $\\ell_{ij}$. Hence, the main contribution to the product $\\|L\\|\\|U\\|$ is in $\\|U\\|$, which is measured by the growth factor. We obtain the following theorem"
   ]
  },
  {
   "cell_type": "markdown",
   "metadata": {
    "slideshow": {
     "slide_type": "subslide"
    }
   },
   "source": [
    "\n",
    "**Theorem (Backward stability of LU factorization)**\n",
    "Let the factorization $PA=LU$ of a matrix $A\\in\\mathbb{R}^{m\\times m}$ be computed by Gaussian elimination with partial pivoting. Then the computed matrices $\\tilde{P}$, $\\tilde{L}$, $\\tilde{U}$ satisfy\n",
    "\n",
    "$$\n",
    "\\tilde{L}\\tilde{U}=\\tilde{P}A+\\delta A,\\quad \\frac{\\|\\delta A\\|}{\\|A\\|}=\\mathcal{O}(\\rho\\epsilon_{mach}).\n",
    "$$\n",
    "If $\\ell_{ij}<1$ for each $i>j$ (there are no ties in the selection of pivots in exact arithmetic), then $\\tilde{P}=P$ for all sufficiently small $\\epsilon_{mach}$."
   ]
  },
  {
   "cell_type": "markdown",
   "metadata": {
    "slideshow": {
     "slide_type": "slide"
    }
   },
   "source": [
    "## Worst-Case Instability"
   ]
  },
  {
   "cell_type": "code",
   "execution_count": 1,
   "metadata": {
    "slideshow": {
     "slide_type": "fragment"
    }
   },
   "outputs": [
    {
     "name": "stdout",
     "output_type": "stream",
     "text": [
      "[[ 1.  0.  0.  0.  0.  0.  0.  1.]\n",
      " [-1.  1.  0.  0.  0.  0.  0.  1.]\n",
      " [-1. -1.  1.  0.  0.  0.  0.  1.]\n",
      " [-1. -1. -1.  1.  0.  0.  0.  1.]\n",
      " [-1. -1. -1. -1.  1.  0.  0.  1.]\n",
      " [-1. -1. -1. -1. -1.  1.  0.  1.]\n",
      " [-1. -1. -1. -1. -1. -1.  1.  1.]\n",
      " [-1. -1. -1. -1. -1. -1. -1.  1.]]\n"
     ]
    }
   ],
   "source": [
    "import numpy as np\n",
    "\n",
    "def matrix_with_large_rho(n):\n",
    "    A = np.zeros((n,n),dtype=np.float64)\n",
    "    for j in range(n-1):\n",
    "        A += np.diag(-np.ones(n-1-j,dtype=np.float64),-j-1)\n",
    "    A +=np.diag(np.ones(n,dtype=np.float64))\n",
    "    A[:,-1]=np.ones(n)\n",
    "    return A\n",
    "print(matrix_with_large_rho(8))"
   ]
  },
  {
   "cell_type": "markdown",
   "metadata": {
    "slideshow": {
     "slide_type": "subslide"
    }
   },
   "source": [
    "Its LU decomposition has the following shape"
   ]
  },
  {
   "cell_type": "code",
   "execution_count": 2,
   "metadata": {
    "slideshow": {
     "slide_type": "fragment"
    }
   },
   "outputs": [],
   "source": [
    "from scipy.linalg import lu\n",
    "P,L,U=lu(matrix_with_large_rho(8))"
   ]
  },
  {
   "cell_type": "code",
   "execution_count": 3,
   "metadata": {
    "slideshow": {
     "slide_type": "fragment"
    }
   },
   "outputs": [
    {
     "name": "stdout",
     "output_type": "stream",
     "text": [
      "[[  1.   0.   0.   0.   0.   0.   0.   1.]\n",
      " [  0.   1.   0.   0.   0.   0.   0.   2.]\n",
      " [  0.   0.   1.   0.   0.   0.   0.   4.]\n",
      " [  0.   0.   0.   1.   0.   0.   0.   8.]\n",
      " [  0.   0.   0.   0.   1.   0.   0.  16.]\n",
      " [  0.   0.   0.   0.   0.   1.   0.  32.]\n",
      " [  0.   0.   0.   0.   0.   0.   1.  64.]\n",
      " [  0.   0.   0.   0.   0.   0.   0. 128.]]\n"
     ]
    }
   ],
   "source": [
    "print(U)"
   ]
  },
  {
   "cell_type": "markdown",
   "metadata": {
    "slideshow": {
     "slide_type": "subslide"
    }
   },
   "source": [
    "Let us plot the growth factor with respect to n."
   ]
  },
  {
   "cell_type": "code",
   "execution_count": 4,
   "metadata": {
    "slideshow": {
     "slide_type": "fragment"
    }
   },
   "outputs": [
    {
     "data": {
      "text/plain": [
       "Text(0, 0.5, 'rho')"
      ]
     },
     "execution_count": 4,
     "metadata": {},
     "output_type": "execute_result"
    },
    {
     "data": {
      "image/png": "[encoded data removed]",
      "text/plain": [
       "<Figure size 432x288 with 1 Axes>"
      ]
     },
     "metadata": {
      "needs_background": "light"
     },
     "output_type": "display_data"
    }
   ],
   "source": [
    "%matplotlib inline\n",
    "from matplotlib import pyplot as plt\n",
    "nvals = 1+np.arange(19)\n",
    "rho_vals = np.zeros_like(nvals,dtype=np.float64)\n",
    "for i,n in enumerate(nvals):\n",
    "    P,L,U = lu(matrix_with_large_rho(n))\n",
    "    rho_vals[i] = np.max(np.abs(U))\n",
    "plt.semilogy(nvals,rho_vals,'k.-')\n",
    "plt.xlabel('n')\n",
    "plt.ylabel('rho')"
   ]
  },
  {
   "cell_type": "markdown",
   "metadata": {
    "slideshow": {
     "slide_type": "subslide"
    }
   },
   "source": [
    "The growth factor $\\rho$ grows exponentially with $n$ for this matrix. What is the effect on the backward error for solving a linear system of equations?"
   ]
  },
  {
   "cell_type": "code",
   "execution_count": 5,
   "metadata": {
    "slideshow": {
     "slide_type": "fragment"
    }
   },
   "outputs": [
    {
     "name": "stdout",
     "output_type": "stream",
     "text": [
      "0.0836122648719776\n"
     ]
    }
   ],
   "source": [
    "n = 100\n",
    "A = matrix_with_large_rho(n)\n",
    "b = np.random.rand(n)\n",
    "x = np.linalg.solve(A,b)\n",
    "print(np.linalg.norm(np.dot(A,x)-b)/(np.linalg.norm(A)*np.linalg.norm(x)))"
   ]
  },
  {
   "cell_type": "markdown",
   "metadata": {
    "slideshow": {
     "slide_type": "fragment"
    }
   },
   "source": [
    "**Gaussian elimination with partial pivoting is not backward stable.**"
   ]
  },
  {
   "cell_type": "markdown",
   "metadata": {
    "slideshow": {
     "slide_type": "slide"
    }
   },
   "source": [
    "## Growth factor of random matrices\n",
    "\n",
    "The following plot shows the probability density functions for the growth factor $\\rho$ for matrices of dimension $8$, $16$, and $32$ (see [Driscoll, Maki '07](http://www.math.udel.edu/~driscoll/papers/2007-DriscollMaki-673.pdf)). It shows that large growth factors are exponentially unlikely to occur randomly. Indeed, essentially no practical application is known, where growth factors cause difficulties. Hence, **in practice Gaussian elimination with partial pivoting is backward stable**."
   ]
  },
  {
   "cell_type": "markdown",
   "metadata": {
    "slideshow": {
     "slide_type": "subslide"
    }
   },
   "source": [
    "<img src=\"./growth_factors.png\">"
   ]
  }
 ],
 "metadata": {
  "celltoolbar": "Slideshow",
  "kernelspec": {
   "display_name": "Python [conda env:dev]",
   "language": "python",
   "name": "conda-env-dev-py"
  },
  "language_info": {
   "codemirror_mode": {
    "name": "ipython",
    "version": 3
   },
   "file_extension": ".py",
   "mimetype": "text/x-python",
   "name": "python",
   "nbconvert_exporter": "python",
   "pygments_lexer": "ipython3",
   "version": "3.8.6"
  }
 },
 "nbformat": 4,
 "nbformat_minor": 4
}
