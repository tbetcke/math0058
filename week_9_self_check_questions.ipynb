{
 "cells": [
  {
   "cell_type": "markdown",
   "metadata": {},
   "source": [
    "# Week 8 Self Check Questions"
   ]
  },
  {
   "cell_type": "markdown",
   "metadata": {},
   "source": [
    "1.) Let $f$ be a function defined on the interval $[a,b]$. Let $x_k\\in [a,b]$, $k=0,\\dots,n$ with $x_i \\neq x_j$ for all $i\\neq j$. Write down the Lagrange interpolation polynomial $p$ of degree $n$ that interpolates $f$ in the points $x_k$."
   ]
  },
  {
   "cell_type": "markdown",
   "metadata": {},
   "source": [
    "2.) State the general form of Newton-Cotes quadrature rules."
   ]
  },
  {
   "cell_type": "markdown",
   "metadata": {},
   "source": [
    "3.) Explain the Runge phenomenon and state how it can be prevented."
   ]
  },
  {
   "cell_type": "markdown",
   "metadata": {},
   "source": [
    "4.) Explain why Newton-Cotes rules of increasing order will in general not converge to the exact integral of a function."
   ]
  },
  {
   "cell_type": "markdown",
   "metadata": {},
   "source": [
    "5.) A quadrature formula on the interval $[-1,1]$ uses the quadrature points\\\\\n",
    "$x_0=-\\alpha$, $x_1=\\alpha$, where $0<\\alpha\\leq 1$.\n",
    "$$\n",
    "\\int_{-1}^1f(x)dx\\approx w_0f(-\\alpha)+w_1f(\\alpha).\n",
    "$$\n",
    "The formula is required to be exact whenever $f$ is a polynomial of degree $1$. Show that $w_0=w_1=1$, independent of the value of $\\alpha$. Show also that there is one particular value of $\\alpha$, such that the formula is exact also for all polynomials of degree $2$. Find this $\\alpha$, and show that, for this value, the formula is also exact for all polynomials of degree $3$.\n",
    "\n"
   ]
  },
  {
   "cell_type": "markdown",
   "metadata": {},
   "source": [
    "6.) Consider the integral $I(f):=\\int_a^bf(x)dx$. Assume that we want to approximate $I(f)$ by a Newton-Cotes quadrature rule of the form $I_2(f):=\\omega_0f(a)+\\omega_1f((a+b)/2)+\\omega_2f(b)$. Derive the corresponding weights $\\omega_0$, $\\omega_1$, and $\\omega_2$."
   ]
  }
 ],
 "metadata": {
  "kernelspec": {
   "display_name": "Python [conda env:dev]",
   "language": "python",
   "name": "conda-env-dev-py"
  },
  "language_info": {
   "codemirror_mode": {
    "name": "ipython",
    "version": 3
   },
   "file_extension": ".py",
   "mimetype": "text/x-python",
   "name": "python",
   "nbconvert_exporter": "python",
   "pygments_lexer": "ipython3",
   "version": "3.8.6"
  }
 },
 "nbformat": 4,
 "nbformat_minor": 4
}
