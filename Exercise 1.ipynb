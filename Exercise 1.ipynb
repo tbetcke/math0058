{
 "cells": [
  {
   "cell_type": "markdown",
   "metadata": {},
   "source": [
    "# Exercise Sheet 1 - Getting to know Python"
   ]
  },
  {
   "cell_type": "markdown",
   "metadata": {},
   "source": [
    "The following small exercises are meant to give you a first impression of the Python/IPython environment and make you familiar with IPython Notebooks."
   ]
  },
  {
   "cell_type": "markdown",
   "metadata": {},
   "source": [
    "## Number Representations in Python"
   ]
  },
  {
   "cell_type": "markdown",
   "metadata": {},
   "source": [
    "Python natively knows the following number types: plain integers, long integers, floating point numbers, and complex numbers.\n",
    "For example, assigning the plain integer number 5 to a variable `a` is done via\n",
    "\n",
    "    a = 5\n",
    "    \n",
    "Try it for yourself. Define a variable `b` and assign to it the value `1`."
   ]
  },
  {
   "cell_type": "code",
   "execution_count": null,
   "metadata": {},
   "outputs": [],
   "source": []
  },
  {
   "cell_type": "markdown",
   "metadata": {},
   "source": [
    "More complicated are floating point numbers. The default floating point numbers in Python have approximately 16 digits of precision. This can lead to interesting effects. For example try out the following innocently looking computation."
   ]
  },
  {
   "cell_type": "code",
   "execution_count": null,
   "metadata": {},
   "outputs": [],
   "source": [
    "0.1+0.2"
   ]
  },
  {
   "cell_type": "markdown",
   "metadata": {},
   "source": [
    "The reason for the result is that the numbers 0.1 and 0.2 cannot be exactly represented in floating point arithmetic (more about this later). So these numbers are rounded, leading to a small error. It is natural that computers have small errors when working with floating point numbers. A fundamental task in modern algorithmic design is to ensure that these errors do not accumulate in a bad way if a computation consisting of millions of floating point operations is executed."
   ]
  },
  {
   "cell_type": "markdown",
   "metadata": {},
   "source": [
    "## The `Numpy module`"
   ]
  },
  {
   "cell_type": "markdown",
   "metadata": {},
   "source": [
    "Python on its own is not very good at numerical computing. It lacks functionality for fast operations on arrays of numbers stored in memory. This is fixed by the `Numpy` module which has enabled the tremendous success that Python enjoys in the Scientific Computing Community."
   ]
  },
  {
   "cell_type": "markdown",
   "metadata": {},
   "source": [
    "In the first lecture a basic introduction to `Numpy` was given. The goal of the following questions is to become more familiar with `Numpy` and to learn to make simple computations with this module."
   ]
  },
  {
   "cell_type": "markdown",
   "metadata": {},
   "source": [
    "In order to use `Numpy` it first needs to be imported into the Python namespace. This is typically done using either\n",
    "\n",
    "    import numpy\n",
    "    \n",
    "or \n",
    "    \n",
    "    import numpy as np\n",
    "    \n",
    "The second call assigns the imported module the name `np` so that we do not always have to write `numpy`. This is a convention that most `Numpy` users are following.\n",
    "\n",
    "Now execute the following cell to import `Numpy`."
   ]
  },
  {
   "cell_type": "code",
   "execution_count": null,
   "metadata": {},
   "outputs": [],
   "source": [
    "import numpy as np"
   ]
  },
  {
   "cell_type": "markdown",
   "metadata": {},
   "source": [
    "We want to define a simple (100,100) matrix of random numbers. The corresponding call is"
   ]
  },
  {
   "cell_type": "code",
   "execution_count": null,
   "metadata": {},
   "outputs": [],
   "source": [
    "A = np.random.rand(100,100)"
   ]
  },
  {
   "cell_type": "markdown",
   "metadata": {},
   "source": [
    "You can easily see what datatype the matrix `A` has by executing the following command."
   ]
  },
  {
   "cell_type": "code",
   "execution_count": null,
   "metadata": {},
   "outputs": [],
   "source": [
    "print(A.dtype)"
   ]
  },
  {
   "cell_type": "markdown",
   "metadata": {},
   "source": [
    "`float64` denotes 64 bit wide floating point numbers. These are numbers with roughly 16 digits of precision."
   ]
  },
  {
   "cell_type": "markdown",
   "metadata": {},
   "source": [
    "It is now your task to try out a few slicing operators. Write code to print out the following elements:\n",
    "\n",
    "   * The first 10 elements of the first line\n",
    "   * The bottom right element of the matrix\n",
    "   * Every second element of the third column"
   ]
  },
  {
   "cell_type": "code",
   "execution_count": null,
   "metadata": {},
   "outputs": [],
   "source": []
  },
  {
   "cell_type": "markdown",
   "metadata": {},
   "source": [
    "We now want to do a couple of operators on the matrix. If for any of the tasks below you don't know the commands you can just google them. There is a vast number of Python documentation and tutorials available on the Internet. Indeed, even for a good programmer it is standard practice to have the web browser open to quickly look up things.\n",
    "\n",
    "* Print out the determinant of A.\n",
    "* Print out the trace of A (i.e. the sum of the diagonal values).\n",
    "* Print out the determinant of A^T (i.e. the transpose of A). It should be identical to the determinant of A itself.\n",
    "* Define a random vector x of dimension 100 and form the matrix vector product y = A * x."
   ]
  },
  {
   "cell_type": "code",
   "execution_count": null,
   "metadata": {},
   "outputs": [],
   "source": []
  },
  {
   "cell_type": "markdown",
   "metadata": {},
   "source": [
    "These are quite simple operators. Now let's see if we can make things a bit more advanced. Do the following:\n",
    "\n",
    "* Define a dimension variable n and set it to some value (e.g. `n=100`).\n",
    "* Define a random matrix `A` of dimension nxn.\n",
    "* Define a random vector y of dimension n.\n",
    "* Solve the linear system of equations A * x = y. (Numpy has a solve command for this)\n",
    "* Compute the backward error $\\eta = \\|r\\|/(\\|A\\|\\|x\\|)$ with $r=y-Ax$.\n",
    "\n",
    "Try out the previous steps for various values of $n$. The meaning of the backward error will be discussed in the next lecture. Essentially, it tells you the size of a matrix $E$ so that your computed solution is an exact solution of $(A+E)x=y$ in exact arithmetic. (Remember that $x$ is only an approximate solution due to the finite precision arithmetic)."
   ]
  },
  {
   "cell_type": "code",
   "execution_count": null,
   "metadata": {},
   "outputs": [],
   "source": []
  },
  {
   "cell_type": "markdown",
   "metadata": {},
   "source": [
    "## Simple for loops in Python"
   ]
  },
  {
   "cell_type": "markdown",
   "metadata": {},
   "source": [
    "One of the most important language concepts in Python is the `for` loop. A simple example is the following:"
   ]
  },
  {
   "cell_type": "code",
   "execution_count": null,
   "metadata": {},
   "outputs": [],
   "source": [
    "for x in range(10):\n",
    "    print x\n"
   ]
  },
  {
   "cell_type": "markdown",
   "metadata": {},
   "source": [
    "The above example works as follows. The command `range(10)` creates a Python array of the form [0,1,...,9]. The `for` statements iterates through the array one element after another, assigns the current array element to the variable `x` and executes the indented code. Now try to figure out what the following `for` loop is doing."
   ]
  },
  {
   "cell_type": "code",
   "execution_count": null,
   "metadata": {},
   "outputs": [],
   "source": [
    "A = np.random.randint(0,10,(5,5))\n",
    "for x in A:\n",
    "    print x\n"
   ]
  },
  {
   "cell_type": "markdown",
   "metadata": {},
   "source": [
    "We now return to the backward error computation. But instead of changing `n` manually define an array `nvals` that contains the numbers [100,300,500,...]. (Hint: Execute `help(range)` to get information about how to define ranges with a certain step size). Now take the value `n` from this array using a for `loop` and store the norm of each computed backward array in a result vector with the same number of elements as the vector `nvalues`. You can for example use the command\n",
    "\n",
    "    result = np.zeros_like(nvals,dtype='float64')\n",
    "    \n",
    "to create a result vector of type `float64` that has the same number of elements as `nvals` but each of them set to zero.\n",
    "\n",
    "There is one small caveat. If you write a `for` loop as\n",
    "\n",
    "    for n in nvals:\n",
    "        ...\n",
    "\n",
    "you will not have an index that will tell you inside the loop how many loop iterations you have already run. This is important for storing the results at the right position in the vector `result`. This can be rectified by the `enumerate` function in Python. Simply use the following:\n",
    "\n",
    "    for i,n in enumerate(nvals):\n",
    "        ...\n",
    "        result[i] = ...\n",
    "        \n",
    "The `enumerate` function returns in each loop iteration a tuple consisting of the index of the current list element and the element itself."
   ]
  },
  {
   "cell_type": "code",
   "execution_count": null,
   "metadata": {},
   "outputs": [],
   "source": []
  },
  {
   "cell_type": "markdown",
   "metadata": {},
   "source": [
    "We now want to add one more complication. In the previous step we have only considered one random matrix for each dimension. We now want to use a nested for loop so that for each dimension `n` we compute the backward error of `m` random matrices (`m` could for example be `10`) and then store into the `result` vector the maximum backward error over all these computations. Hence, for each dimension `n` you need to define a local vector of dimension `m` and store the results for the `m` backward error computations in this vector. Then in the `result` vector you store the maximum of the local backward errors for each dimension. This gives something like the following:\n",
    "\n",
    "    for i,n in enumerate(nvals):\n",
    "        local_result = np.zeros(m,dtype=np.float64)\n",
    "        for j in range(m):\n",
    "            ...  # Compute the backward error for a random matrix of dimension (n,n)\n",
    "            local_result[j] = backward_error\n",
    "        result[i] = np.max(local_result)\n",
    "        "
   ]
  },
  {
   "cell_type": "markdown",
   "metadata": {},
   "source": [
    "## Simple plotting"
   ]
  },
  {
   "cell_type": "markdown",
   "metadata": {},
   "source": [
    "We now want to plot the results of our computations. Plotting in Python is very simple with the `Matplotlib` module. If you run your code from an IPython Notebook (such as this one) you can decide whether plots should appear in a separate Window or be displayed inside the Notebook. In the latter case you cannot modify plots by zooming on or doing other transformations. By default plots are done in a separate window. To change this behavior execute the following cell, which is not a Python command but an IPython directive that influences the IPython behavior (noticable from the percent symbol in front of the command):"
   ]
  },
  {
   "cell_type": "code",
   "execution_count": null,
   "metadata": {},
   "outputs": [],
   "source": [
    "%matplotlib inline"
   ]
  },
  {
   "cell_type": "markdown",
   "metadata": {},
   "source": [
    "We now need to import the plotting module from `Matplotlib`. This is done by executing the following cell:"
   ]
  },
  {
   "cell_type": "code",
   "execution_count": null,
   "metadata": {},
   "outputs": [],
   "source": [
    "from matplotlib import pyplot as plt"
   ]
  },
  {
   "cell_type": "markdown",
   "metadata": {},
   "source": [
    "It is standard custom to call the `pyplot` module `plt`. Let us say you have a vector of numbers `x` and a corresponding vector of function values `y` you can now plot the corresponding graph by executing\n",
    "\n",
    "    plt.plot(x,y)\n",
    "    \n",
    "There is a multitude of options for plotting in Python and we will not be able to name them all here. The best place to start is to go to [Matplotlib Homepage](matplotlib.org) and read the basic plotting tutorial there. For example if you have want to plot sin(x) in the interval from [-pi,pi] you can use the following commands:"
   ]
  },
  {
   "cell_type": "code",
   "execution_count": null,
   "metadata": {},
   "outputs": [],
   "source": [
    "x = np.pi * np.linspace(-1,1,1000)\n",
    "plt.plot(x,np.sin(x))"
   ]
  },
  {
   "cell_type": "markdown",
   "metadata": {},
   "source": [
    "To conclude this exercise we now want to plot the maximum backward error for each dimension against the dimension itself. A suitable plotting command for this is\n",
    "\n",
    "    plt.plot(nvals,result,'k*',markersize=2)\n",
    "    \n",
    "The formatting option `k*` does not connect the different values with lines. The option `markersize=2` changes the size of the `star` markers. Just play around until you have found a size that you find visually pleasing."
   ]
  },
  {
   "cell_type": "code",
   "execution_count": null,
   "metadata": {},
   "outputs": [],
   "source": []
  }
 ],
 "metadata": {
  "kernelspec": {
   "display_name": "Python 3",
   "language": "python",
   "name": "python3"
  },
  "language_info": {
   "codemirror_mode": {
    "name": "ipython",
    "version": 3
   },
   "file_extension": ".py",
   "mimetype": "text/x-python",
   "name": "python",
   "nbconvert_exporter": "python",
   "pygments_lexer": "ipython3",
   "version": "3.8.6"
  }
 },
 "nbformat": 4,
 "nbformat_minor": 4
}
