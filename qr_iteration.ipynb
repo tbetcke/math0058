{
 "cells": [
  {
   "cell_type": "markdown",
   "id": "loaded-silicon",
   "metadata": {},
   "source": [
    "## Investigating the QR Iteration"
   ]
  },
  {
   "cell_type": "code",
   "execution_count": 10,
   "id": "innovative-definition",
   "metadata": {},
   "outputs": [],
   "source": [
    "import numpy as np\n",
    "from scipy.linalg import qr, hessenberg\n",
    "from matplotlib import pyplot as plt"
   ]
  },
  {
   "cell_type": "code",
   "execution_count": 11,
   "id": "stock-tragedy",
   "metadata": {},
   "outputs": [],
   "source": [
    "%matplotlib inline"
   ]
  },
  {
   "cell_type": "markdown",
   "id": "identical-wireless",
   "metadata": {},
   "source": [
    "We start with some randome matrix A"
   ]
  },
  {
   "cell_type": "code",
   "execution_count": 13,
   "id": "constant-triumph",
   "metadata": {},
   "outputs": [],
   "source": [
    "rand = np.random.RandomState(0)\n",
    "n = 10\n",
    "A  = rand.rand(n, n) + 1j * rand.rand(n, n)"
   ]
  },
  {
   "cell_type": "markdown",
   "id": "according-identity",
   "metadata": {},
   "source": [
    "Let us first transform the matrix to upper Hessenberg form. This does not change the eigenvalues."
   ]
  },
  {
   "cell_type": "code",
   "execution_count": 14,
   "id": "statutory-uruguay",
   "metadata": {},
   "outputs": [],
   "source": [
    "H = hessenberg(A)"
   ]
  },
  {
   "cell_type": "markdown",
   "id": "responsible-effort",
   "metadata": {},
   "source": [
    "Let's plot the result."
   ]
  },
  {
   "cell_type": "code",
   "execution_count": 15,
   "id": "graphic-timeline",
   "metadata": {},
   "outputs": [
    {
     "data": {
      "text/plain": [
       "<matplotlib.image.AxesImage at 0x7f2a59789a00>"
      ]
     },
     "execution_count": 15,
     "metadata": {},
     "output_type": "execute_result"
    },
    {
     "data": {
      "image/png": "[encoded data removed]",
      "text/plain": [
       "<Figure size 432x288 with 1 Axes>"
      ]
     },
     "metadata": {
      "needs_background": "light"
     },
     "output_type": "display_data"
    }
   ],
   "source": [
    "plt.spy(H)"
   ]
  },
  {
   "cell_type": "markdown",
   "id": "intense-broadway",
   "metadata": {},
   "source": [
    "It might look triangular. But the first lower diagonal is also nonzero."
   ]
  },
  {
   "cell_type": "markdown",
   "id": "shared-denver",
   "metadata": {},
   "source": [
    "The Hessenberg form is invariant under one step of QR iteration. Let's check this."
   ]
  },
  {
   "cell_type": "code",
   "execution_count": 16,
   "id": "nearby-hometown",
   "metadata": {},
   "outputs": [
    {
     "data": {
      "text/plain": [
       "<matplotlib.image.AxesImage at 0x7f2a5970c280>"
      ]
     },
     "execution_count": 16,
     "metadata": {},
     "output_type": "execute_result"
    },
    {
     "data": {
      "image/png": "[encoded data removed]",
      "text/plain": [
       "<Figure size 432x288 with 1 Axes>"
      ]
     },
     "metadata": {
      "needs_background": "light"
     },
     "output_type": "display_data"
    }
   ],
   "source": [
    "Q, R = qr(H)\n",
    "H2 = R @ Q\n",
    "plt.spy(H2)"
   ]
  },
  {
   "cell_type": "markdown",
   "id": "cultural-mobile",
   "metadata": {},
   "source": [
    "In practice, one does not call just a dense QR decomposition. But one works directly on the structure. This leads to an interesting little algorithm called bulge chasing, which we do not discuss further here, but is very important for practical implementations."
   ]
  },
  {
   "cell_type": "markdown",
   "id": "occupied-occasions",
   "metadata": {},
   "source": [
    "Let us now run a couple of iterations of the QR iteration and let's see how quickly the second to last element in the last row of $H$ converges to zero. It is zero the bottom last diagonal element is a wanted eigenvalue."
   ]
  },
  {
   "cell_type": "code",
   "execution_count": 17,
   "id": "sweet-officer",
   "metadata": {},
   "outputs": [
    {
     "data": {
      "text/plain": [
       "[<matplotlib.lines.Line2D at 0x7f2a596da0d0>]"
      ]
     },
     "execution_count": 17,
     "metadata": {},
     "output_type": "execute_result"
    },
    {
     "data": {
      "image/png": "[encoded data removed]",
      "text/plain": [
       "<Figure size 432x288 with 1 Axes>"
      ]
     },
     "metadata": {
      "needs_background": "light"
     },
     "output_type": "display_data"
    }
   ],
   "source": [
    "nsteps = 100\n",
    "\n",
    "H = hessenberg(A)\n",
    "\n",
    "residuals = np.empty(nsteps, dtype='float64')\n",
    "\n",
    "for index in range(nsteps):\n",
    "    Q, R = qr(H)\n",
    "    H = R @ Q\n",
    "    residuals[index] = np.abs(H[-1, -2]) / np.abs(H[-1, -1])\n",
    "    \n",
    "plt.semilogy(residuals)"
   ]
  },
  {
   "cell_type": "markdown",
   "id": "secure-whale",
   "metadata": {},
   "source": [
    "The convergence is a bit slow. In 40 steps the second to last element is only of size around $10^{-11}$."
   ]
  },
  {
   "cell_type": "markdown",
   "id": "fixed-project",
   "metadata": {},
   "source": [
    "Let us speed this up now by introducing a shift strategy."
   ]
  },
  {
   "cell_type": "code",
   "execution_count": 18,
   "id": "specified-collector",
   "metadata": {},
   "outputs": [
    {
     "name": "stdout",
     "output_type": "stream",
     "text": [
      "Residual: 0.15859990555710826\n",
      "Residual: 0.00480568733011793\n",
      "Residual: 5.411433421874815e-06\n",
      "Residual: 8.144398220322452e-12\n",
      "Residual: 1.558604737271024e-23\n"
     ]
    },
    {
     "data": {
      "text/plain": [
       "[<matplotlib.lines.Line2D at 0x7f2a596346a0>]"
      ]
     },
     "execution_count": 18,
     "metadata": {},
     "output_type": "execute_result"
    },
    {
     "data": {
      "image/png": "[encoded data removed]",
      "text/plain": [
       "<Figure size 432x288 with 1 Axes>"
      ]
     },
     "metadata": {
      "needs_background": "light"
     },
     "output_type": "display_data"
    }
   ],
   "source": [
    "nsteps = 5\n",
    "\n",
    "H = hessenberg(A)\n",
    "\n",
    "residuals = np.empty(nsteps, dtype='float64')\n",
    "\n",
    "ident = np.eye(n)\n",
    "\n",
    "for index in range(nsteps):\n",
    "    shift = H[-1, -1]\n",
    "    Q, R = qr(H - shift * ident)\n",
    "    H = np.dot(R, Q) + shift * ident\n",
    "    residual = np.abs(H[-1, -2]) / np.abs(H[-1, -1])\n",
    "    print(f\"Residual: {residual}\")\n",
    "    residuals[index] = residual\n",
    "    \n",
    "plt.semilogy(residuals)"
   ]
  },
  {
   "cell_type": "markdown",
   "id": "bizarre-intensity",
   "metadata": {},
   "source": [
    "We have converged in 4 iterations. Let us now reduce the matrix and continue with the next smaller matrix."
   ]
  },
  {
   "cell_type": "code",
   "execution_count": 19,
   "id": "hearing-waste",
   "metadata": {},
   "outputs": [
    {
     "name": "stdout",
     "output_type": "stream",
     "text": [
      "Residual: 0.4014179183647712\n",
      "Residual: 0.027851788347264733\n",
      "Residual: 0.0001353015860237914\n",
      "Residual: 4.892875899909358e-09\n",
      "Residual: 2.2001619599736492e-18\n"
     ]
    },
    {
     "data": {
      "text/plain": [
       "[<matplotlib.lines.Line2D at 0x7f2a597e0a60>]"
      ]
     },
     "execution_count": 19,
     "metadata": {},
     "output_type": "execute_result"
    },
    {
     "data": {
      "image/png": "[encoded data removed]",
      "text/plain": [
       "<Figure size 432x288 with 1 Axes>"
      ]
     },
     "metadata": {
      "needs_background": "light"
     },
     "output_type": "display_data"
    }
   ],
   "source": [
    "nsteps = 5\n",
    "\n",
    "H_reduced = H[:-1, :-1] # Copy H over to preserve the original matrix\n",
    "\n",
    "residuals = np.empty(nsteps, dtype='float64')\n",
    "\n",
    "ident = np.eye(n-1, n-1)\n",
    "\n",
    "for index in range(nsteps):\n",
    "    shift = H_reduced[-1, -1]\n",
    "    Q, R = qr(H_reduced - shift * ident)\n",
    "    H_reduced = R @ Q + shift * ident\n",
    "    residual = abs(H_reduced[-1, -2]) / abs(H_reduced[-1, -1])\n",
    "    print(f\"Residual: {residual}\")\n",
    "    residuals[index] = residual\n",
    "    \n",
    "plt.semilogy(residuals)"
   ]
  },
  {
   "cell_type": "markdown",
   "id": "coated-watershed",
   "metadata": {},
   "source": [
    "Again, we have converged in 5 iterations. In practice, with more sophisticated shift variants and better deflation strategies the QR iteration takes typically only 2 to 3 iterations per eigenvalue, where each iteration has quadratic cost. Hence, the overall algorithm converges usually in cubic time. Therefore, even though the QR iteration is an iterative algorithm we therefore speak of a method with cubic complexitiy since this holds in almost all cases."
   ]
  },
  {
   "cell_type": "code",
   "execution_count": null,
   "id": "desirable-notebook",
   "metadata": {},
   "outputs": [],
   "source": []
  }
 ],
 "metadata": {
  "kernelspec": {
   "display_name": "Python [conda env:dev]",
   "language": "python",
   "name": "conda-env-dev-py"
  },
  "language_info": {
   "codemirror_mode": {
    "name": "ipython",
    "version": 3
   },
   "file_extension": ".py",
   "mimetype": "text/x-python",
   "name": "python",
   "nbconvert_exporter": "python",
   "pygments_lexer": "ipython3",
   "version": "3.8.6"
  }
 },
 "nbformat": 4,
 "nbformat_minor": 5
}
