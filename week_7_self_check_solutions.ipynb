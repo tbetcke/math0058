{
 "cells": [
  {
   "cell_type": "markdown",
   "metadata": {},
   "source": [
    "# Week 7 Self Check Questions"
   ]
  },
  {
   "cell_type": "markdown",
   "metadata": {},
   "source": [
    "1.) Prove that every square matrix $A\\in\\mathbb{C}^{n\\times n}$ has a Schur decomposition.\n",
    "\n",
    "Proceed similarly as for the prove of the SVD. But instead of starting with a vector $v_1$ that gives $Av_1=\\sigma_1 u_1$, start with an eigenvector $x$ with associated eigenvalue $\\lambda$ such that $Ax=\\lambda x$ to construct a suitable matrix $Q$ such that\n",
    "\n",
    "$$\n",
    "Q^HAQ = \\begin{bmatrix}\\lambda & w^H\\\\ 0 & B\\end{bmatrix}.\n",
    "$$\n",
    "\n",
    "Do you need to prove that $w$ is zero?"
   ]
  },
  {
   "cell_type": "markdown",
   "metadata": {},
   "source": [
    "Solution:\n",
    "\n",
    "We prove the Schur decomposition by induction on the dimension. For $n=1$ the statement is trivial. Now consider $A\\in\\mathbb{C}^{n\\times n}$. Let $\\lambda$ be an eigenvalue with associated eigenvector $x$. Assume that $\\|x\\|_2=1$. Now define the unitary matrix $Q\\in\\mathbb{C}^{n\\times n}$ by\n",
    "\n",
    "$$\n",
    "Q=\\begin{bmatrix}x & \\hat{Q}\\end{bmatrix},\n",
    "$$\n",
    "where $\\hat{Q}$ is a unitary basis of the orthogonal complement to the space spanned by $x$. We now have\n",
    "\n",
    "$$\n",
    "Q^HAQ = \\begin{bmatrix}\\lambda & w^H\\\\ 0 & B\\end{bmatrix}\n",
    "$$\n",
    "for some vector $w$ and $B\\in\\mathbb{C}^{n-1\\times n-1}$. Let $B = P\\tilde{R}P^T$ be the Schur decomposition of $B$. Then\n",
    "\n",
    "$$\n",
    "A = Q\\begin{bmatrix}1 & \\\\ & P\\end{bmatrix}\\begin{bmatrix}\\lambda & w^HP\\\\0 & \\tilde{R}\\end{bmatrix}\\begin{bmatrix}1 & \\\\ & P^H\\end{bmatrix}Q^H\n",
    "$$\n",
    "is a Schur decomposition of $A$.\n",
    "\n",
    "Note that we did not prove that $w$ is zero since the Schur decomposition only assumes that we obtain an upper triangular matrix. In fact, for non-symmetric $A$ the vector $w$ will generally not be zero."
   ]
  },
  {
   "cell_type": "markdown",
   "metadata": {},
   "source": [
    "2.) Let $A\\in\\mathbb{R}^{m\\times n}$ with $m\\geq n$. Show that the smallest singular value $\\sigma_n$ of $A$ satisfies\n",
    "\n",
    "$$\n",
    "\\sigma_n = \\min_{x\\in\\mathbb{R}^n} \\frac{\\|Ax\\|_2}{\\|x\\|_2}.\n",
    "$$"
   ]
  },
  {
   "cell_type": "markdown",
   "metadata": {},
   "source": [
    "Solution:\n",
    "    \n",
    "Using the SVD $A = U\\Sigma V^T$ we can replace $A$ by the diagonal matrix $\\Sigma$ since the 2-norm is invariant under orthogonal transformations. Let now $y$ be given with $\\|y\\|_2=1$. We have\n",
    "\n",
    "$$\n",
    "\\|\\Sigma y\\|_2^2 = \\sum_{j}\\sigma_j^2y_j^2 \\geq \\sigma_n\\sum_jy_j^2 = \\sigma_n.\n",
    "$$\n",
    "\n",
    "This inequality becomes an equality for $y$ chosen to be the unit vector $e_n$. Hence, for $\\Sigma$ diagonal the result follows and therefore for arbitrary $A\\in\\mathbb{R}^{m\\times n}$ through the invariance of the norm under orthogonal transformations.\n",
    "\n",
    "Notice the symmetry between smallest and largest singular value. By maximizing we obtain the largest singular value and by minimizing the smallest."
   ]
  },
  {
   "cell_type": "markdown",
   "metadata": {},
   "source": [
    "3.) Let $A\\in\\mathbb{C}^{n\\times n}$. For $z\\in\\mathbb{C}$ the following statements are given.\n",
    "\n",
    "* $z$ is an eigenvalue of $A+\\delta A$ for some $\\delta A$ with $\\|\\delta A\\|_2\\leq\\epsilon$.\n",
    "* There exists a vector $u\\in\\mathbb{C}^m$ with $\\|(A-zI)u\\|_2\\leq \\epsilon$ and $\\|u\\|_2=1$.\n",
    "* $\\sigma_n(zI-A)\\leq\\epsilon$, where $\\sigma_n(zI-A)$ is the smallest singular value of $zI-A$.\n",
    "* $\\|(zI-A)^{-1}\\|_2\\geq\\epsilon^{-1}$\n",
    "\n",
    "Prove that these statements are equivalent by showing that $\\textrm{(i)}\\rightarrow \\textrm{(ii)}\\rightarrow\\textrm{(iii)}\\rightarrow\\textrm{(iv)}\\rightarrow\\textrm{(i)}$."
   ]
  },
  {
   "cell_type": "markdown",
   "metadata": {},
   "source": [
    "Solution:\n",
    "    \n",
    "$\\textrm{(i)}\\rightarrow \\textrm{(ii)}$: From $(A+\\delta A)u=zu$ we have $(A-zI)u=-\\delta A u$ for an eigenvector $u$ with $\\|u\\|_2=1$. Taking norms we obtain $\\|(A-zI)u\\|_2\\leq\\epsilon$.\n",
    "\n",
    "$\\textrm{(ii)}\\rightarrow \\textrm{(iii)}$: This follows from\n",
    "$$\n",
    "\\sigma_{n}(zI-A)=\\min_{x\\in\\mathbb{R}^n\\backslash\\{0\\}}\\frac{\\|(zI-A)x\\|_2}{\\|x\\|_2}\\leq \\frac{\\|(A-zI)u\\|_2}{\\|u\\|_2}\\leq\\epsilon.\n",
    "$$\n",
    "\n",
    "$\\textrm{(iii)}\\rightarrow\\textrm{(iv)}$: We have $\\|(zI-A)^{-1}\\|_2=\\left[\\sigma_{n}(zI-A)\\right]^{-1}\\geq \\epsilon^{-1}$.\n",
    "\n",
    "$\\textrm{(iv)}\\rightarrow \\textrm{(i)}$: From (iii) it follows that there exist unit norm vectors $u$, and $v$ such that $(zI-A)^{-1}u=\\hat{\\epsilon}^{-1}v$ for some $\\hat{\\epsilon}\\leq \\epsilon$. It follows that\n",
    "$(zI-A)v = \\hat{\\epsilon}u$. Rearranging gives $(A+\\hat{\\epsilon}uv^H)v=zv$ and hence $z$ is an eigenvalue of $(A+\\delta A)$ with $\\|\\delta A\\|_2 = \\hat{\\epsilon}\\leq \\epsilon$."
   ]
  },
  {
   "cell_type": "markdown",
   "metadata": {},
   "source": [
    "4.) Let $A\\in\\mathbb{C}^{n\\times n}$ be diagonalizable and $\\lambda$ an eigenvalue of $A$ with associated right eigenvector $x$ and left eigenvector $y$. Consider the perturbed eigenvalue equation \n",
    "\n",
    "$$\n",
    "(A + \\delta A)(x+ \\delta x) = (\\lambda + \\delta \\lambda)(x + \\delta x).\n",
    "$$\n",
    "\n",
    "To first order show that $|\\delta\\lambda| \\leq \\frac{\\|x\\| \\|y\\|}{|y^H\\delta Ax|}  \\|\\delta A\\|$."
   ]
  },
  {
   "cell_type": "markdown",
   "metadata": {},
   "source": [
    "Solution:\n",
    "    \n",
    "We multiply out the perturbed eigenvalue equations and ignore higher order terms to obtain\n",
    "\n",
    "$$\n",
    "A\\delta x + \\delta A x = \\lambda \\delta x + \\delta\\lambda x.\n",
    "$$\n",
    "\n",
    "We now multiply from the left with $y^H$ and use that $y^HA = \\lambda y^H$, resulting in\n",
    "\n",
    "$$\n",
    "y^H\\delta A x = \\delta\\lambda y^Hx,\n",
    "$$\n",
    "\n",
    "from which we get\n",
    "\n",
    "$$\n",
    "\\delta\\lambda = \\frac{y^H\\delta A x}{y^Hx}.\n",
    "$$\n",
    "\n",
    "Taking norms we obtain the bound\n",
    "\n",
    "$$\n",
    "|\\delta\\lambda|\\leq \\frac{\\|x\\| \\|y\\|}{|y^Hx|} \\|\\delta A\\|.\n",
    "$$\n",
    "\n",
    "This motivates the definition of the eigenvalue condition number $\\kappa(\\lambda)$ as\n",
    "\n",
    "$$\n",
    "\\kappa(\\lambda) = \\frac{\\|x\\| \\|y\\|}{|y^Hx|}.\n",
    "$$"
   ]
  },
  {
   "cell_type": "markdown",
   "metadata": {},
   "source": [
    "5.)  Let $A = \\begin{bmatrix}a & c\\\\0 & b\\end{bmatrix}$ for real numbers $a, b, c$ and $a\\neq b$. Show that the condition numbers of the eigenvalues of $A$ asymptotically grow like $|\\frac{c}{b-a}|$ as $b\\rightarrow a$."
   ]
  },
  {
   "cell_type": "markdown",
   "metadata": {},
   "source": [
    "Solution:\n",
    "\n",
    "The eigenvalues are $\\lambda_1 = a$ and $\\lambda_2=b$ with corresponding right/left eigenvectors $x_1 = \\begin{bmatrix}1 & 0\\end{bmatrix}^T$, $y_1 = \\begin{bmatrix}-1 & \\frac{c}{b-a}\\end{bmatrix}^T$, $x_2 = \\begin{bmatrix}\\frac{c}{a-b} & -1\\end{bmatrix}^T$, $y_2 = \\begin{bmatrix}0 & 1\\end{bmatrix}^T$.\n",
    "\n",
    "The condition number of an eigenvalue is given as $\\kappa = \\frac{\\|x\\|_2\\|y\\|_2}{|x^Hy|}$. We hence obtain for both eigenpairs that\n",
    "$$\n",
    "        \\kappa = \\left(1 + \\frac{c^2}{(b-a)^2}\\right)^{1/2}.\n",
    "$$\n",
    "It follows that $\\kappa\\sim \\left|\\frac{c}{b-a}\\right|$."
   ]
  },
  {
   "cell_type": "code",
   "execution_count": null,
   "metadata": {},
   "outputs": [],
   "source": []
  }
 ],
 "metadata": {
  "kernelspec": {
   "display_name": "Python [conda env:dev]",
   "language": "python",
   "name": "conda-env-dev-py"
  },
  "language_info": {
   "codemirror_mode": {
    "name": "ipython",
    "version": 3
   },
   "file_extension": ".py",
   "mimetype": "text/x-python",
   "name": "python",
   "nbconvert_exporter": "python",
   "pygments_lexer": "ipython3",
   "version": "3.8.6"
  }
 },
 "nbformat": 4,
 "nbformat_minor": 4
}
