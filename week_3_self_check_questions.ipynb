{
 "cells": [
  {
   "cell_type": "markdown",
   "metadata": {},
   "source": [
    "# Week 3 Self Check Questions - Solutions"
   ]
  },
  {
   "cell_type": "markdown",
   "metadata": {},
   "source": [
    "Question 1:\n",
    "\n",
    "Let $A\\in\\mathbb{R}^{n\\times n}$. Proof that the LU decomposition exists with nonsingular $L$ and $R$ if and only if the determinant of all minors is nonzero.\n",
    "(Note: The minors are the submatrices $A[:m, :m]$).\n",
    "\n",
    "Does the LU decomposition exist for the following matrix? Justify your answer. \n",
    "$$\n",
    "\\begin{bmatrix}\n",
    "0.5 &   -2 &   2 \\\\\n",
    "-1 & 4 & -5\\\\\n",
    "9&  -5& 8 \n",
    "\\end{bmatrix}\n",
    "$$"
   ]
  },
  {
   "cell_type": "markdown",
   "metadata": {},
   "source": [
    "Question 2:\n",
    "    \n",
    "Let $A\\in\\mathbb{R}^{n\\times n}$ be tridiagonal, that is only the main diagonal and the first upper and lower off-diagonals can be nonzero.\n",
    "    Assume that an LU decomposition exists. Show that it can be computed in $\\mathcal{O}(n)$ operations.\n",
    "    \n",
    "    "
   ]
  },
  {
   "cell_type": "markdown",
   "metadata": {},
   "source": [
    "Question 3:\n",
    "    \n",
    "Proof the Sherman-Morrison formula\n",
    "$$\n",
    "        (A+uv^T)^{-1} = A^{-1} - \\frac{A^{-1}uv^TA^{-1}}{1+v^TA^{-1}u}\n",
    "        $$\n",
    "if $1+v^TA^{-1}u\\neq 0$."
   ]
  },
  {
   "cell_type": "markdown",
   "metadata": {},
   "source": [
    "Question 4:\n",
    "    \n",
    "Explain why the LU Decomposition without pivoting is not backward stable and why the backward error result from the notes for the LU\n",
    "Decomposition does not imply backward stability."
   ]
  }
 ],
 "metadata": {
  "kernelspec": {
   "display_name": "Python [conda env:dev]",
   "language": "python",
   "name": "conda-env-dev-py"
  },
  "language_info": {
   "codemirror_mode": {
    "name": "ipython",
    "version": 3
   },
   "file_extension": ".py",
   "mimetype": "text/x-python",
   "name": "python",
   "nbconvert_exporter": "python",
   "pygments_lexer": "ipython3",
   "version": "3.8.6"
  }
 },
 "nbformat": 4,
 "nbformat_minor": 4
}
