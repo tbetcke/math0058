{
 "cells": [
  {
   "cell_type": "markdown",
   "metadata": {
    "slideshow": {
     "slide_type": "slide"
    }
   },
   "source": [
    "# Computing Eigenvalues"
   ]
  },
  {
   "cell_type": "markdown",
   "metadata": {
    "slideshow": {
     "slide_type": "slide"
    }
   },
   "source": [
    "## What's the difficulty?\n",
    "\n",
    "From Abel's theorem it follows that we cannot generally compute eigenvalues in closed from for matrices with dimension larger than 4. Hence, we need iterative methods to compute eigenvalues. The most fundamental method to compute eigenvalues is the power method."
   ]
  },
  {
   "cell_type": "markdown",
   "metadata": {
    "slideshow": {
     "slide_type": "subslide"
    }
   },
   "source": [
    "** Algorithm: Power Method**\n",
    "    \n",
    "for $k=1,2,\\dots$\n",
    "\n",
    "$\\quad z^{(k)} = Aq^{(k-1)}$\n",
    "\n",
    "$\\quad q^{(k)} = z^{(k)}/\\|z^{(k)}\\|_2$\n",
    "\n",
    "$\\quad \\lambda^{(k)} = \\left[q^{(k)}\\right]^HAq^{(k)}$\n",
    "\n",
    "end"
   ]
  },
  {
   "cell_type": "markdown",
   "metadata": {
    "slideshow": {
     "slide_type": "subslide"
    }
   },
   "source": [
    "Assume that $A$ is diagonalizable. We can write $q^{(0)}=\\sum_{j=1}^n\\alpha_jx_j$, where the $x_j$ are the eigenvectors of $A$ associated with the eigenvalues $\\lambda_j$. We assume the eigenvalues are orderered such that $|\\lambda_1|> |\\lambda_2|\\geq \\dots$.\n",
    "\n",
    "We have\n",
    "\n",
    "$$\n",
    "A^{k}q^{(0)} = \\sum_{j=1}^n\\alpha_j\\lambda_j^kx_j = \\alpha_1\\lambda_1^{k}\\left(x_1+\\sum_{j=2}^n\\frac{\\alpha_j}{\\alpha_1}\\left(\\frac{\\lambda_j}{\\lambda_1}\\right)^kx_j\\right).\n",
    "$$\n",
    "\n",
    "It follows that the error is of the order \n",
    "$\\mathcal{O}\\left(\\left|\\frac{\\lambda_2}{\\lambda_1}\\right|^k\\right)$."
   ]
  },
  {
   "cell_type": "code",
   "execution_count": 1,
   "metadata": {
    "slideshow": {
     "slide_type": "subslide"
    }
   },
   "outputs": [],
   "source": [
    "%matplotlib inline\n",
    "\n",
    "\n",
    "import numpy as np\n",
    "from numpy.random import rand,randn\n",
    "from matplotlib import pyplot as plt\n",
    "from scipy.linalg import eigvals,qr\n",
    "def power_method(A,q0,k):\n",
    "    \"\"\"Evaluates k steps of the power iteration with starting vector q0 for the matrix A. Returns a vector with eigenvalue\n",
    "       iterates \\lambda_j.\n",
    "    \"\"\"\n",
    "    \n",
    "    lambda_iterates = np.zeros(k,dtype=np.complex128)\n",
    "    \n",
    "    q = q0\n",
    "    \n",
    "    for i in range(k):\n",
    "        z = np.dot(A,q)\n",
    "        q = z/np.linalg.norm(z)\n",
    "        lambda_iterates[i] = np.dot(np.conjugate(q),np.dot(A,q))\n",
    "        \n",
    "    return lambda_iterates\n"
   ]
  },
  {
   "cell_type": "code",
   "execution_count": 8,
   "metadata": {
    "slideshow": {
     "slide_type": "subslide"
    }
   },
   "outputs": [
    {
     "data": {
      "text/plain": [
       "Text(0, 0.5, '\\\\lambda_j-\\\\lambda_1')"
      ]
     },
     "execution_count": 8,
     "metadata": {},
     "output_type": "execute_result"
    },
    {
     "data": {
      "image/png": "[encoded data removed]",
      "text/plain": [
       "<Figure size 432x288 with 1 Axes>"
      ]
     },
     "metadata": {
      "needs_background": "light"
     },
     "output_type": "display_data"
    }
   ],
   "source": [
    "n = 100\n",
    "k = 30\n",
    "A = rand(n,n)\n",
    "q0 = randn(n) + 1j * randn(n)\n",
    "\n",
    "lambda_iterates = power_method(A,q0,k)\n",
    "plt.semilogy(np.abs(lambda_iterates-lambda_iterates[-1]))\n",
    "plt.ylabel('\\lambda_j-\\lambda_1')"
   ]
  },
  {
   "cell_type": "markdown",
   "metadata": {
    "slideshow": {
     "slide_type": "subslide"
    }
   },
   "source": [
    "Why the fast convergence?"
   ]
  },
  {
   "cell_type": "code",
   "execution_count": 9,
   "metadata": {
    "slideshow": {
     "slide_type": "fragment"
    }
   },
   "outputs": [
    {
     "data": {
      "text/plain": [
       "[<matplotlib.lines.Line2D at 0x7f4c90aae5e0>]"
      ]
     },
     "execution_count": 9,
     "metadata": {},
     "output_type": "execute_result"
    },
    {
     "data": {
      "image/png": "[encoded data removed]",
      "text/plain": [
       "<Figure size 432x288 with 1 Axes>"
      ]
     },
     "metadata": {
      "needs_background": "light"
     },
     "output_type": "display_data"
    }
   ],
   "source": [
    "import scipy.linalg\n",
    "\n",
    "eigvals = scipy.linalg.eigvals(A)\n",
    "plt.plot(np.real(eigvals), np.imag(eigvals), 'kx',markersize=10)"
   ]
  },
  {
   "cell_type": "markdown",
   "metadata": {
    "slideshow": {
     "slide_type": "fragment"
    }
   },
   "source": [
    "For matrices consisting of equally distributed random numbers there is one eigenvalues, which is much larger than the others."
   ]
  },
  {
   "cell_type": "markdown",
   "metadata": {
    "slideshow": {
     "slide_type": "slide"
    }
   },
   "source": [
    "## Inverse Iteration\n",
    "\n",
    "The principle idea of inverse iteration is to transform the spectrum of the matrix $A$ in order to accelerate the eigenvalue convergence.\n",
    "\n",
    "Let $Ax=\\lambda x$. Then we have $(A-\\sigma I)^{-1}x=(\\lambda-\\sigma)^{-1}x$. The biggest eigenvalue is now the one that is closest to $\\sigma$, and we can expect that the power method will convergence fast to the eigenvalue close to $\\sigma$."
   ]
  },
  {
   "cell_type": "code",
   "execution_count": 10,
   "metadata": {
    "slideshow": {
     "slide_type": "subslide"
    }
   },
   "outputs": [],
   "source": [
    "%matplotlib inline\n",
    "\n",
    "import numpy as np\n",
    "from numpy.random import rand,randn\n",
    "from matplotlib import pyplot as plt\n",
    "from scipy.linalg import eigvals, lu, solve_triangular\n",
    "def power_method(A,q0,k,sigma):\n",
    "    \"\"\"Evaluates k steps of the inverse iteration with starting vector q0 \n",
    "       for the matrix A and shift sigma. Returns a vector with eigenvalue\n",
    "       iterates \\lambda_j.\n",
    "    \"\"\"\n",
    "    \n",
    "    lambda_iterates = np.zeros(k,dtype=np.complex128)\n",
    "    \n",
    "    q = q0 / np.linalg.norm(q0)\n",
    "    \n",
    "    n = A.shape[0]\n",
    "    \n",
    "    P,L,U = lu(A-sigma*np.eye(n,n,dtype=A.dtype))\n",
    "    \n",
    "    def applyMat(x):\n",
    "        return solve_triangular(U,solve_triangular(L,np.dot(P,q),lower=True))\n",
    "    \n",
    "    for i in range(k):\n",
    "        z = applyMat(q)\n",
    "        q = z/np.linalg.norm(z)\n",
    "        lambda_iterates[i] = np.dot(q.conj(),applyMat(q))\n",
    "        \n",
    "    return lambda_iterates"
   ]
  },
  {
   "cell_type": "code",
   "execution_count": 11,
   "metadata": {
    "slideshow": {
     "slide_type": "subslide"
    }
   },
   "outputs": [
    {
     "data": {
      "text/plain": [
       "Text(0, 0.5, '\\\\lambda_j-\\\\lambda_1')"
      ]
     },
     "execution_count": 11,
     "metadata": {},
     "output_type": "execute_result"
    },
    {
     "data": {
      "image/png": "[encoded data removed]",
      "text/plain": [
       "<Figure size 432x288 with 1 Axes>"
      ]
     },
     "metadata": {
      "needs_background": "light"
     },
     "output_type": "display_data"
    }
   ],
   "source": [
    "n = 50\n",
    "k = 30\n",
    "sigma = .1\n",
    "A = randn(n,n)\n",
    "q0 = randn(n) + 1j * randn(n)\n",
    "\n",
    "lambda_iterates = power_method(A,q0,k,sigma)\n",
    "plt.semilogy(np.abs(lambda_iterates-lambda_iterates[-1]))\n",
    "plt.ylabel('\\lambda_j-\\lambda_1')"
   ]
  },
  {
   "cell_type": "code",
   "execution_count": 23,
   "metadata": {},
   "outputs": [
    {
     "name": "stdout",
     "output_type": "stream",
     "text": [
      "[ 4.97271163+0.j  5.43614531+0.j  5.43638105+0.j  5.43637965+0.j\n",
      "  5.43637966+0.j  5.43637966+0.j  5.43637966+0.j  5.43637966+0.j\n",
      "  5.43637966+0.j  5.43637966+0.j  5.43637966+0.j  5.43637966+0.j\n",
      "  5.43637966+0.j  5.43637966+0.j  5.43637966+0.j  5.43637966+0.j\n",
      "  5.43637966+0.j  5.43637966+0.j  5.43637966+0.j  5.43637966+0.j\n",
      "  5.43637966+0.j  5.43637966+0.j  5.43637966+0.j  5.43637966+0.j\n",
      "  5.43637966+0.j  5.43637966+0.j  5.43637966+0.j  5.43637966+0.j\n",
      "  5.43637966+0.j  5.43637966+0.j]\n"
     ]
    }
   ],
   "source": [
    "print(lambda_iterates)"
   ]
  },
  {
   "cell_type": "markdown",
   "metadata": {
    "slideshow": {
     "slide_type": "slide"
    }
   },
   "source": [
    "## Subspace iteration and the QR Algorithm"
   ]
  },
  {
   "cell_type": "markdown",
   "metadata": {},
   "source": [
    "In many applications we do not just want to compute one eigenvalue but several or even all eigenvalues of a given matrix. In the following we will discuss the basic ideas of the most successful algorithm for computing eigenvalues of general nonsymmetric matrices.\n",
    "\n",
    "***Algorithm (Subspace Iteration)***\n",
    "\n",
    "for $k=1,2,\\dots$\n",
    "\n",
    "$\\quad Z^{(k)} = AQ^{(k-1)}$\n",
    "\n",
    "$\\quad Q^{(k)}R = Z^{(k)}$ (QR decomposition)\n",
    "\n",
    "$\\quad A^{(k)} = [Q^{(k)}]^HAQ^{(k)}$\n",
    "\n",
    "end"
   ]
  },
  {
   "cell_type": "code",
   "execution_count": 13,
   "metadata": {
    "slideshow": {
     "slide_type": "subslide"
    }
   },
   "outputs": [],
   "source": [
    "%matplotlib inline\n",
    "import numpy as np\n",
    "from numpy.random import rand, randn\n",
    "from matplotlib import pyplot as plt\n",
    "from scipy.linalg import qr\n",
    "def subspace_iteration(A,k,m):\n",
    "    \"\"\"Evaluates k steps of the subspace iteration for the matrix A to find the largest m eigenvalues.\n",
    "       Return a vector of errors computed via the Frobenius norm.\n",
    "    \"\"\"\n",
    "        \n",
    "    Z0 = np.random.rand(A.shape[0],m)+1j*np.random.rand(A.shape[0],m)\n",
    "    Q,R = qr(Z0,mode='economic')\n",
    "    \n",
    "    error = np.zeros(k,dtype=np.float64)\n",
    "    \n",
    "    for i in range(k):\n",
    "        Z = np.dot(A,Q)\n",
    "        Q,R = qr(Z,mode='economic')\n",
    "        Lambda = np.dot(np.conjugate(Q).T,np.dot(A,Q))\n",
    "        error[i] = np.linalg.norm(np.tril(Lambda,-1))\n",
    "        \n",
    "    return error\n"
   ]
  },
  {
   "cell_type": "code",
   "execution_count": 21,
   "metadata": {
    "slideshow": {
     "slide_type": "subslide"
    }
   },
   "outputs": [
    {
     "data": {
      "text/plain": [
       "Text(0, 0.5, 'error')"
      ]
     },
     "execution_count": 21,
     "metadata": {},
     "output_type": "execute_result"
    },
    {
     "data": {
      "image/png": "[encoded data removed]",
      "text/plain": [
       "<Figure size 432x288 with 1 Axes>"
      ]
     },
     "metadata": {
      "needs_background": "light"
     },
     "output_type": "display_data"
    }
   ],
   "source": [
    "n = 50\n",
    "k = 40\n",
    "m = 2\n",
    "A = rand(n,n)\n",
    "\n",
    "error = subspace_iteration(A,k,m)\n",
    "plt.semilogy(error)\n",
    "plt.ylabel('error')\n"
   ]
  },
  {
   "cell_type": "markdown",
   "metadata": {
    "slideshow": {
     "slide_type": "subslide"
    }
   },
   "source": [
    "The iterates $A^{(k)}$ converge against an upper triangular matrix which contains the largest magnitude eigenvalues on its diagonal."
   ]
  },
  {
   "cell_type": "markdown",
   "metadata": {
    "slideshow": {
     "slide_type": "slide"
    }
   },
   "source": [
    "## The QR Algorithm\n",
    "\n",
    "Instead of applying the subspace iteration to find the $k$ largest eigenvalues we could attempt to apply it to find all $n$ eigenvalues. This is the idea of the QR iteration. It is defined as follows.\n",
    "\n",
    "**The QR Iteration**\n",
    "\n",
    "for $k=1,2,\\dots$\n",
    "\n",
    "$A^{(0)} = A$\n",
    "\n",
    "$A^{(k-1)} = Q^{(k)}R^{(k)}$\n",
    "\n",
    "$A^{(k)} = R^{(k)}Q^{(k)}$\n",
    "\n",
    "end"
   ]
  },
  {
   "cell_type": "code",
   "execution_count": 22,
   "metadata": {
    "slideshow": {
     "slide_type": "subslide"
    }
   },
   "outputs": [],
   "source": [
    "import numpy as np\n",
    "from numpy.random import rand\n",
    "from matplotlib import pyplot as plt\n",
    "from scipy.linalg import qr\n",
    "def qr_iteration(A,k):\n",
    "    \"\"\"Evaluates k steps of the QR iteration for the matrix A to find all eigenvalues.\n",
    "       Return a vector of errors computed via the Frobenius norm.\n",
    "    \"\"\"\n",
    "            \n",
    "    error = np.zeros(k,dtype=np.float64)\n",
    "    \n",
    "    for i in range(k):\n",
    "        Q,R = qr(A)\n",
    "        A = np.dot(R,Q)\n",
    "        error[i] = np.linalg.norm(np.tril(A,-1))\n",
    "        \n",
    "    return error"
   ]
  },
  {
   "cell_type": "code",
   "execution_count": 23,
   "metadata": {
    "slideshow": {
     "slide_type": "subslide"
    }
   },
   "outputs": [
    {
     "data": {
      "text/plain": [
       "Text(0, 0.5, 'error')"
      ]
     },
     "execution_count": 23,
     "metadata": {},
     "output_type": "execute_result"
    },
    {
     "data": {
      "image/png": "[encoded data removed]",
      "text/plain": [
       "<Figure size 432x288 with 1 Axes>"
      ]
     },
     "metadata": {
      "needs_background": "light"
     },
     "output_type": "display_data"
    }
   ],
   "source": [
    "n = 10\n",
    "k = 200\n",
    "A = rand(n,n)+1j*rand(n,n)\n",
    "\n",
    "\n",
    "error = qr_iteration(A,k)\n",
    "plt.semilogy(error)\n",
    "plt.ylabel('error')"
   ]
  },
  {
   "cell_type": "markdown",
   "metadata": {
    "slideshow": {
     "slide_type": "subslide"
    }
   },
   "source": [
    "## Some comments\n",
    "\n",
    "* Accelerated variants of the QR iteration are the standard algorithm to compute eigenvalues\n",
    "* All Scipy eigenvalue algorithms for dense nonsymmetric matrices use it.\n",
    "* In practice the complexity is $O(n^3)$. It takes $O(n^3)$ iteration for an initial so-called\n",
    "Hessenberg transformation of the matrix. Each eigenvalue is then found in typically two to three iterations to\n",
    "machine precision.\n",
    "* Even though QR is iterative due to its fast convergence (when acceleration techniques are used), it is considered like a non-iterative method."
   ]
  },
  {
   "cell_type": "markdown",
   "metadata": {
    "slideshow": {
     "slide_type": "slide"
    }
   },
   "source": [
    "## Symmetric eigenvalue problems\n",
    "\n",
    "Symmetric eigenvalue problems play a significant role in a range of applications. There structure is significantly simpler than that of general eigenvalue problems, and efficient extremely fast converging methods exist to compute eigenvalues of symm problems.\n",
    "\n",
    "We consider the Schur decomposition of a hermitian matrix $A\\in\\mathbb{C}^{n\\times n}$ with $A=A^H$.\n",
    "\n",
    "$$\n",
    "A = QRQ^H.\n",
    "$$\n",
    "\n",
    "We have\n",
    "\n",
    "$$\n",
    "A^H = QR^HQ^H.\n",
    "$$\n",
    "\n"
   ]
  },
  {
   "cell_type": "markdown",
   "metadata": {
    "slideshow": {
     "slide_type": "subslide"
    }
   },
   "source": [
    "Since $A=A^H$ it follows that $R=R^H$. Since $R$ is upper triangular this is only possible if $R$ is diagonal. Furthermore, the diagonal must be real. It follows that all eigenvalues are real. This implies that all eigenvectors are also real if $A$ is real. Moreover, we have\n",
    "\n",
    "$$\n",
    "A = Q\\Lambda Q^H,\n",
    "$$\n",
    "where $\\Lambda$ is the diagonal matrix containing the eigenvalues. Hence, the Schur vectors are also the eigenvectors, implying that the eigenvectors form an orthonormal basis of $\\mathbb{R}^n$.\n"
   ]
  },
  {
   "cell_type": "markdown",
   "metadata": {
    "slideshow": {
     "slide_type": "slide"
    }
   },
   "source": [
    "## Rayleigh Quotients\n",
    "\n",
    "Let $A\\in\\mathbb{R}^{n\\times n}$ be symmetric. We define the Rayleigh quotient as\n",
    "\n",
    "$$\n",
    "r(x):=\\frac{x^TAx}{x^Tx}\n",
    "$$\n",
    "for $x\\in\\mathbb{R}^n$."
   ]
  },
  {
   "cell_type": "markdown",
   "metadata": {
    "slideshow": {
     "slide_type": "subslide"
    }
   },
   "source": [
    "We have the following remarkable result.\n",
    "\n",
    "**Theorem**\n",
    "Let $x$ be an eigenvector of the symmetric matrix $A$ with $Ax=\\lambda x$. Let $\\tilde{x}=x+\\epsilon$. Then\n",
    "\n",
    "$$\n",
    "r(\\tilde{x}) = \\lambda+\\mathcal{O}(\\|\\epsilon\\|^2).\n",
    "$$\n",
    "\n",
    "Proof: We first note that $\\lambda = r(x)$. Taking the gradient of the Rayleigh quotient we obtain\n",
    "    \n",
    "$$\n",
    "\\nabla r(x) = \\frac{2}{x^Tx}\\left(Ax-r(x)x\\right).\n",
    "$$\n",
    "Hence, if $x$ is an eigenvector then $\\nabla r(x)=0$. The result now follows via Taylor expansion of $r(x+\\epsilon)$ around $x$."
   ]
  },
  {
   "cell_type": "markdown",
   "metadata": {
    "slideshow": {
     "slide_type": "subslide"
    }
   },
   "source": [
    "We now return to the Inverse Iteration. The idea is that instead of the fixed value $\\sigma$ in each step we use as shift the value of the Rayleigh quotient. The resulting algorithm is called Rayleigh quotient iteration.\n",
    "\n",
    "**Algorithm (Rayleigh Quotient Iteration)**\n",
    "\n",
    "$\\lambda^{(0)} = [q^{(0)}]^TAq^{(0)}$\n",
    "\n",
    "for $k=1,2,\\dots$\n",
    "\n",
    "$\\quad z^{(k)} = (A-\\lambda^{(k-1)}I)^{-1}q^{(k-1)}$\n",
    "\n",
    "$\\quad q^{(k)} = z^{(k)}/\\|z^{(k)}\\|_2$\n",
    "\n",
    "$\\quad \\lambda^{(k)} = \\left[q^{(k)}\\right]^TAq^{(k)}$\n",
    "\n",
    "end"
   ]
  },
  {
   "cell_type": "code",
   "execution_count": 24,
   "metadata": {
    "slideshow": {
     "slide_type": "subslide"
    }
   },
   "outputs": [],
   "source": [
    "%matplotlib inline\n",
    "\n",
    "import numpy as np\n",
    "from numpy.random import rand,randn\n",
    "from matplotlib import pyplot as plt\n",
    "from scipy.linalg import eigvals,lu,solve_triangular\n",
    "def rayleigh_quotient_iteration(A,q0,k,sigma):\n",
    "    \"\"\"Evaluates k steps of the Rayleigh quotient iteration. Returns a vector with eigenvalue\n",
    "       iterates \\lambda_j. sigma is an initial shift.\n",
    "    \"\"\"\n",
    "    \n",
    "    lambda_iterates = np.zeros(k+1,dtype=np.float64)\n",
    "    \n",
    "    P,L,U = lu(A-sigma*np.eye(n,n,dtype=A.dtype))\n",
    "    \n",
    "    q = solve_triangular(U,solve_triangular(L,np.dot(P,q0),lower=True))\n",
    "    \n",
    "    q = q/np.linalg.norm(q0)\n",
    "    \n",
    "    lambda_iterates[0] = np.dot(q,np.dot(A,q))\n",
    "    \n",
    "    for i in range(1,k+1):\n",
    "        \n",
    "        P,L,U = lu(A-lambda_iterates[i-1]*np.eye(n,n,dtype=A.dtype))\n",
    "        z = solve_triangular(U,solve_triangular(L,np.dot(P,q),lower=True))\n",
    "        q = z/np.linalg.norm(z)\n",
    "        lambda_iterates[i] = np.dot(q,np.dot(A,q))\n",
    "        \n",
    "    return lambda_iterates"
   ]
  },
  {
   "cell_type": "code",
   "execution_count": 25,
   "metadata": {
    "slideshow": {
     "slide_type": "subslide"
    }
   },
   "outputs": [
    {
     "data": {
      "text/plain": [
       "Text(0, 0.5, '\\\\lambda_j-\\\\lambda')"
      ]
     },
     "execution_count": 25,
     "metadata": {},
     "output_type": "execute_result"
    },
    {
     "data": {
      "image/png": "[encoded data removed]",
      "text/plain": [
       "<Figure size 432x288 with 1 Axes>"
      ]
     },
     "metadata": {
      "needs_background": "light"
     },
     "output_type": "display_data"
    }
   ],
   "source": [
    "n = 100\n",
    "k = 30\n",
    "A = randn(n,n)\n",
    "A = .5*(A+A.T)\n",
    "q0 = rand(n)\n",
    "\n",
    "lambda_iterates = rayleigh_quotient_iteration(A,q0,k,5)\n",
    "plt.semilogy(np.abs(lambda_iterates-lambda_iterates[-1]))\n",
    "plt.ylabel('\\lambda_j-\\lambda')"
   ]
  },
  {
   "cell_type": "markdown",
   "metadata": {
    "slideshow": {
     "slide_type": "subslide"
    }
   },
   "source": [
    "**Theorem**\n",
    "Let $A\\in\\mathbb{R}^{n\\times n}$ be symmetric. The Rayleigh quotient iteration converges for almost all start vectors. If it converges it converges cubically to an eigenpair of the matrix."
   ]
  }
 ],
 "metadata": {
  "anaconda-cloud": {},
  "celltoolbar": "Slideshow",
  "kernelspec": {
   "display_name": "Python [conda env:dev]",
   "language": "python",
   "name": "conda-env-dev-py"
  },
  "language_info": {
   "codemirror_mode": {
    "name": "ipython",
    "version": 3
   },
   "file_extension": ".py",
   "mimetype": "text/x-python",
   "name": "python",
   "nbconvert_exporter": "python",
   "pygments_lexer": "ipython3",
   "version": "3.8.6"
  }
 },
 "nbformat": 4,
 "nbformat_minor": 4
}
