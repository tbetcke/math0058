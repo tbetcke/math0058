{
 "cells": [
  {
   "cell_type": "markdown",
   "metadata": {},
   "source": [
    "## Exercise 2 - Implementing the LU Decomposition"
   ]
  },
  {
   "cell_type": "markdown",
   "metadata": {},
   "source": [
    "Your exercise today is straight forward. Write a function `lu(A)`, which takes a matrix $A$ and returns the factors $L$ and $U$ of the LU decomposition.\n",
    "\n",
    "* Try to vectorize the code, that means the inner-most operation of subtracting a multiple of one row from another row should be performed by operating on the whole slice of the corresponding matrix. Overall, your code should only require a double-for loop.\n",
    "* Test your function by computing $\\|A-LU\\|$. If this value is in the order of machine precision for various examples your algorithm should be correct.\n",
    "* Compare the speed of your LU decomposition with the speed of the `scipy.linalg.lu` function.\n",
    "* You may want to use the following skeleton to write your LU function."
   ]
  },
  {
   "cell_type": "code",
   "execution_count": 1,
   "metadata": {},
   "outputs": [],
   "source": [
    "def lu(A):\n",
    "    \n",
    "    import numpy as np\n",
    "    \n",
    "    # Return an error if matrix is not square\n",
    "    if not A.shape[0]==A.shape[1]:\n",
    "        raise ValueError(\"Input matrix must be square\")\n",
    "        \n",
    "    n = A.shape[0] # The number of rows/columns of A\n",
    "    \n",
    "    L = np.zeros((n,n),dtype='float64') # Reserve space for L\n",
    "    U = np.zeros((n,n),dtype='float64') # Reserve space for U\n",
    "    U[:] = A # Copy A into U as we do not want to modify A\n",
    "    np.fill_diagonal(L,1) # fill the diagonal of L with 1\n",
    "    \n",
    "    for i in range(n-1):\n",
    "        # The outer iteration \n",
    "        for j in range(i+1,n):\n",
    "            # Now subtract from the j-th row a multiple of the i-th row.\n",
    "            # Store the scalars in the L matrix\n",
    "            pass # Delete this line when you fill in code\n",
    "    return (L,U)"
   ]
  },
  {
   "cell_type": "code",
   "execution_count": 2,
   "metadata": {},
   "outputs": [
    {
     "name": "stdout",
     "output_type": "stream",
     "text": [
      "The residual is 0.0\n",
      "[[1. 0. 0. 0. 0.]\n",
      " [0. 1. 0. 0. 0.]\n",
      " [0. 0. 1. 0. 0.]\n",
      " [0. 0. 0. 1. 0.]\n",
      " [0. 0. 0. 0. 1.]]\n",
      "[[0.21354434 0.19984934 0.91730991 0.47611133 0.27561457]\n",
      " [0.86595502 0.99712793 0.77275063 0.10688847 0.03707039]\n",
      " [0.42599253 0.54883323 0.21948703 0.35717532 0.38415195]\n",
      " [0.99921086 0.18211658 0.23005131 0.41173091 0.46526805]\n",
      " [0.29306929 0.90502971 0.48314928 0.55131447 0.98723261]]\n"
     ]
    }
   ],
   "source": [
    "# Test implementation\n",
    "import numpy as np\n",
    "\n",
    "n = 5\n",
    "A = np.random.rand(n,n)\n",
    "L,U = lu(A)\n",
    "residual = np.linalg.norm(A-np.dot(L,U))\n",
    "print(\"The residual is {0}\".format(residual))\n",
    "\n",
    "# Show L and U\n",
    "print(L)\n",
    "print(U)"
   ]
  },
  {
   "cell_type": "code",
   "execution_count": null,
   "metadata": {},
   "outputs": [],
   "source": []
  }
 ],
 "metadata": {
  "anaconda-cloud": {},
  "kernelspec": {
   "display_name": "Python [conda env:dev]",
   "language": "python",
   "name": "conda-env-dev-py"
  },
  "language_info": {
   "codemirror_mode": {
    "name": "ipython",
    "version": 3
   },
   "file_extension": ".py",
   "mimetype": "text/x-python",
   "name": "python",
   "nbconvert_exporter": "python",
   "pygments_lexer": "ipython3",
   "version": "3.8.6"
  }
 },
 "nbformat": 4,
 "nbformat_minor": 4
}
