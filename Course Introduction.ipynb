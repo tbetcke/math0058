{
 "cells": [
  {
   "cell_type": "markdown",
   "metadata": {
    "slideshow": {
     "slide_type": "slide"
    }
   },
   "source": [
    "# MATH0058 - Computational Methods"
   ]
  },
  {
   "cell_type": "markdown",
   "metadata": {
    "slideshow": {
     "slide_type": "slide"
    }
   },
   "source": [
    "## What this course is about\n",
    "\n",
    "* A basic introduction to scientific programming in Python.\n",
    "* Understanding and implementing basic methods of computational mathematics.\n",
    "* Obtaining the foundations for further computational and numerical courses at UCL."
   ]
  },
  {
   "cell_type": "markdown",
   "metadata": {
    "slideshow": {
     "slide_type": "slide"
    }
   },
   "source": [
    "## Formalities\n",
    "\n",
    "* Two one hour presence tutorials (Wednesday 12:00, Thursday 13:00)\n",
    "* 4 Coursework assignment.\n",
    "* Each coursework counts **10%** of the overall course mark.\n",
    "* Exam counts 60% of the course."
   ]
  },
  {
   "cell_type": "markdown",
   "metadata": {
    "slideshow": {
     "slide_type": "slide"
    }
   },
   "source": [
    "## Syllabus\n",
    "\n",
    "* An introduction to Python\n",
    "* Efficient solution of linear systems via LU decomposition\n",
    "* Least-Squares problems and the SVD\n",
    "* Eigenvalue Computations\n",
    "* Interpolation of functions\n",
    "* Numerical Integration\n"
   ]
  },
  {
   "cell_type": "markdown",
   "metadata": {
    "slideshow": {
     "slide_type": "slide"
    }
   },
   "source": [
    "## Recommended Literature\n",
    "\n",
    "* B. A. Cipra, [The Best of the 20th Century: Editors Name Top 10 Algorithms](http://www.siam.org/pdf/news/637.pdf). A two page overview of the most influential algorithms\n",
    "of the 20th century.\n",
    "* E. Suli and D. Mayers, *An Introduction to Numerical Analysis*, Cambridge University\n",
    "Press. An excellent introduction into the topic. Many of the theoretical aspects of the\n",
    "course will be based on this book.\n"
   ]
  },
  {
   "cell_type": "markdown",
   "metadata": {
    "slideshow": {
     "slide_type": "subslide"
    }
   },
   "source": [
    "* G. Strang, *Computational Science and Engineering*, A beautiful book explaining many of\n",
    "the fundamental algorithms in Applied Mathematics.\n",
    "* N. J. Higham, *Accuracy and Stability of Numerical Algorithms*, The standard text about fi-\n",
    "nite precision arithmetic on computers and the effects on the stability of modern algorithms.\n",
    "Parts of the course about stability analysis are based on this book."
   ]
  },
  {
   "cell_type": "markdown",
   "metadata": {
    "slideshow": {
     "slide_type": "subslide"
    }
   },
   "source": [
    "* L. N. Trefethen, D. Bau III, *Numerical Linear Algebra*, The best selling SIAM book ever. One of the most beautiful books on numerical linear algebra.\n",
    "* H. P. Langtangen, *A primer on scientific programming with Python*, A great introduction to Python for scientists."
   ]
  },
  {
   "cell_type": "markdown",
   "metadata": {
    "slideshow": {
     "slide_type": "slide"
    }
   },
   "source": [
    "## A few tips about learning Python\n",
    "\n",
    "* Do at least the first four sections of the official [Python tutorial](https://docs.python.org/2/tutorial/).\n",
    "* Do the weekly exercises and invest time in understanding the language.\n",
    "* Google is your friend. Always keep a search window open. There are almost infinite programming resources online.\n",
    "* Be persistent."
   ]
  },
  {
   "cell_type": "markdown",
   "metadata": {
    "slideshow": {
     "slide_type": "slide"
    }
   },
   "source": [
    "## Why should I bother?\n",
    "\n",
    "* Good software developers are a rare commodity on the job market.\n",
    "* You have access to high-skilled development jobs in finance.\n",
    "* Less risk of unemployment.\n",
    "* Developer jobs in the engineering industry almost all require programming skills.\n",
    "* Programming is fundamental to almost all areas of Mathematics (including lots of pure Math) and other\n",
    "sciences."
   ]
  },
  {
   "cell_type": "markdown",
   "metadata": {
    "slideshow": {
     "slide_type": "slide"
    }
   },
   "source": [
    "## Final remarks\n",
    "\n",
    "* The course is not considered easy by most students. But stick with it and a wide area of computational Mathematics opens up to you.\n",
    "* We offer a lot of help through lecture notes, tutorials and office hours. Use it!\n",
    "* Plagiarism will not be tolerated. If you copy code from a website cite the source. Copying an assignment from another student automatically gives 0 marks for all involved students."
   ]
  }
 ],
 "metadata": {
  "anaconda-cloud": {},
  "celltoolbar": "Slideshow",
  "kernelspec": {
   "display_name": "Python 3",
   "language": "python",
   "name": "python3"
  },
  "language_info": {
   "codemirror_mode": {
    "name": "ipython",
    "version": 3
   },
   "file_extension": ".py",
   "mimetype": "text/x-python",
   "name": "python",
   "nbconvert_exporter": "python",
   "pygments_lexer": "ipython3",
   "version": "3.8.6"
  },
  "livereveal": {
   "height": 768,
   "theme": "Sky",
   "transition": "none",
   "width": 1024
  }
 },
 "nbformat": 4,
 "nbformat_minor": 4
}
