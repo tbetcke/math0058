{
 "cells": [
  {
   "cell_type": "markdown",
   "metadata": {},
   "source": [
    "# Week 1 Self Check Questions - Solutions"
   ]
  },
  {
   "cell_type": "markdown",
   "metadata": {},
   "source": [
    "**Question 1:** \n",
    "\n",
    "Let $A\\in\\mathbb{R}^{m\\times n}$. Proof that\n",
    "\n",
    "* $\\|A\\|_1 = \\max_j \\sum_i|a_{ij}|$.\n",
    "* $\\|A\\|_{\\infty} = \\max_i \\sum_j|a_{ij}|$.\n",
    "\n",
    "Note: It follows that $\\|A\\|_1 = \\|A^T\\|_{\\infty}$.\n",
    "\n",
    "From the definition of a vector induced matrix norm we have that\n",
    "\n",
    "\\begin{align}\n",
    "\\|A\\|_1 &= \\max_{\\|x\\|_1 = 1} \\sum_i |\\left[Ax\\right]_i|\\nonumber\\\\\n",
    "        &\\leq \\max_{\\|x\\|_1 = 1} \\sum_{i} \\sum_j |a_{ij}| |x_j|\\nonumber\\\\\n",
    "        &= \\max_{\\|x\\|_1 = 1}  \\sum_j |x_j|\\sum_i |a_{ij}|\\nonumber\\\\\n",
    "        &\\leq \\max_j\\sum_i |a_{ij}| \\max_{\\|x\\|_1 = 1} \\sum_j|x_j|\\nonumber\\\\\n",
    "        &=\\max_j\\sum_i |a_{ij}|.\\nonumber\n",
    "\\end{align}\n",
    "\n",
    "It is left to show that this upper bound is attainable. But this can be easily accomplished. Let $\\hat{j} = \\text{argmax}_j \\sum_i |a_{ij}|$ be the index $\\hat{j}$ associated with the largest column sum. We then set $x_j = 0$ for $j\\neq \\hat{j}$ and $x_\\hat{j} = 1$.\n",
    "\n",
    "For $\\|A\\|_{\\infty}$ we obtain\n",
    "\n",
    "$$\n",
    "\\|A\\|_{\\infty} = \\max_{\\|x\\|_{\\infty} = 1} \\max_i |\\left[Ax\\right]_i| \\leq \\max_i \\sum_{j}|a_{ij}|.\n",
    "$$\n",
    "Let $\\hat{i}$ be the row index for which the upper bound is attained. By choosing $x_j = \\text{sign} a_{\\hat{i}j}|$ we have that $\\|Ax\\|_{\\infty} = \\max_i \\sum_{j}|a_{ij}|$, which confirms that the upper bound can be attained.\n",
    "\n"
   ]
  },
  {
   "cell_type": "markdown",
   "metadata": {},
   "source": [
    "**Question 2:**\n",
    "\n",
    "For the matrix $A = \\begin{bmatrix} 2 & 3 \\\\ 0 & 1\\end{bmatrix}$ compute $\\|A|_p$ for $p=1, 2, \\infty, F$.\n",
    "\n",
    "We have $\\|A|_1 = 4$, $\\|A|_{\\infty} = 5$, $\\|A|_F = \\sqrt{14}$. For $\\|A\\|_2$ we compute the eigenvalues of\n",
    "$$\n",
    "A^TA = \\begin{bmatrix}4 & 6\\\\ 6 & 10\\end{bmatrix},\n",
    "$$\n",
    "giving us $\\lambda_{1, 2} = 7 \\pm 3\\sqrt{5}$. Hence, $\\|A\\|_2 = \\sqrt{7 + 3\\sqrt{5}}$."
   ]
  },
  {
   "cell_type": "markdown",
   "metadata": {},
   "source": [
    "**Question 3:**\n",
    "\n",
    "Show that $\\|x\\|_{\\infty} = \\lim_{p\\rightarrow\\infty} \\|x\\|_p$ for $x\\in\\mathbb{R}^n$.\n",
    "\n",
    "Let $\\hat{j}$ be the index of the largest element by magnitude in $x$. We have that\n",
    "\n",
    "$$\n",
    "\\lim_{p\\rightarrow\\infty} \\|x\\|_p = \\lim_{p\\rightarrow\\infty} \\left[ \\sum_{j}|x|^p\\right]^{1/p} = |x_{\\hat{j}}|\\lim_{p\\rightarrow\\infty} \\left[1 +  \\sum_{j\\neq \\hat{j}}|x/\\hat{x}|^p\\right]^{1/p} = |x_{\\hat{j}}|.\n",
    "$$\n"
   ]
  },
  {
   "cell_type": "markdown",
   "metadata": {},
   "source": [
    "**Question 4:**"
   ]
  },
  {
   "cell_type": "markdown",
   "metadata": {},
   "source": [
    "Explain the meaning of $\\epsilon_{mach}$.\n",
    "\n",
    "$\\epsilon_{mach}$ is defined as $\\epsilon{mach} = \\frac{1}{2}b^{1-p}$, which is half the distance of $1$ to the next floating point number. It is the maximum relative error of a real number $x$ and its closest floating point representation $x'$, that is\n",
    "$$\n",
    "|x - x'| \\leq |x|(1 + \\epsilon_{mach}).\n",
    "$$"
   ]
  },
  {
   "cell_type": "markdown",
   "metadata": {},
   "source": [
    "**Question 5**:\n",
    "\n",
    "Why do double precision numbers  give you around 15 digits of accuracy? \n",
    "\n",
    "We have $\\epsilon_{mach} = 2^{-53}\\approx 1.11E-16$ in double precision. Hence, the relative error of mapping a real number to its floating point representation is correct to around 15 digits."
   ]
  }
 ],
 "metadata": {
  "kernelspec": {
   "display_name": "Python [conda env:dev]",
   "language": "python",
   "name": "conda-env-dev-py"
  },
  "language_info": {
   "codemirror_mode": {
    "name": "ipython",
    "version": 3
   },
   "file_extension": ".py",
   "mimetype": "text/x-python",
   "name": "python",
   "nbconvert_exporter": "python",
   "pygments_lexer": "ipython3",
   "version": "3.8.6"
  }
 },
 "nbformat": 4,
 "nbformat_minor": 4
}
