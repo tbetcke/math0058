{
 "cells": [
  {
   "cell_type": "markdown",
   "metadata": {},
   "source": [
    "# Week 5 Self Check Questions"
   ]
  },
  {
   "cell_type": "markdown",
   "metadata": {},
   "source": [
    "Question 1:\n",
    "\n",
    "Determine the $2\\times 2$ matrix $Q$ that rotates a vector by an angle $\\theta$. Is this matrix orthogonal? Show that $Q^{-1}$ is identical to the matrix that rotates vectors by an angle of $-\\theta$."
   ]
  },
  {
   "cell_type": "markdown",
   "metadata": {},
   "source": [
    "Question 2:\n",
    "    \n",
    "Let $u\\in\\mathbb{R}^n$ with $\\|u\\|_2=1$. Define $P=uu^T$. Show that $P=P^2$. Is $P$ an orthogonal matrix? Describe what $P$ is doing. Matrices that satisfy $P=P^2$ are also called projectors."
   ]
  },
  {
   "cell_type": "markdown",
   "metadata": {},
   "source": [
    "Question 3:\n",
    "    \n",
    "Let $P=P^2$ be a projector satisfying $P=P^T$. Show that $Q=I-2P$ is an orthogonal matrix. Give a geometric interpretation of $Q$."
   ]
  },
  {
   "cell_type": "markdown",
   "metadata": {},
   "source": [
    "Question 4:"
   ]
  },
  {
   "cell_type": "markdown",
   "metadata": {},
   "source": [
    "In the following we define two different ways of orthogonalising a set of vectors."
   ]
  },
  {
   "cell_type": "code",
   "execution_count": 13,
   "metadata": {},
   "outputs": [],
   "source": [
    "import numpy as np\n",
    "\n",
    "def gram_schmidt(A):\n",
    "    \"\"\"Returns an orthogonal basis for the columns in A.\"\"\"\n",
    "    \n",
    "    m = A.shape[0]\n",
    "    n = A.shape[1]\n",
    "    \n",
    "    Q = np.zeros((m, n), dtype=np.float64)\n",
    "    Q[:, 0] = A[:, 0] / np.linalg.norm(A[:, 0])\n",
    "    \n",
    "    for col in range(1, n):\n",
    "        t = A[:, col]\n",
    "        inner_products = Q[:, :col].T @ t\n",
    "        t -= Q[:, :col] @ inner_products\n",
    "        Q[:, col] = t / np.linalg.norm(t)\n",
    "    \n",
    "    return Q\n",
    "    \n",
    "def modified_gram_schmidt(A):\n",
    "    \"\"\"Return an orthogonal basis for the columns in A\"\"\"\n",
    "    \n",
    "    \n",
    "    m = A.shape[0]\n",
    "    n = A.shape[1]\n",
    "    \n",
    "    Q = np.zeros((m, n), dtype=np.float64)\n",
    "    Q[:, 0] = A[:, 0] / np.linalg.norm(A[:, 0])\n",
    "    \n",
    "    for col in range(1, n):\n",
    "        t = A[:, col]\n",
    "        for index in range(col):\n",
    "            t -= Q[:, index] * (np.inner(Q[:, index], t))\n",
    "        Q[:, col] = t / np.linalg.norm(t)\n",
    "    \n",
    "    return Q\n"
   ]
  },
  {
   "cell_type": "markdown",
   "metadata": {},
   "source": [
    "Describe the difference between the two formulations and convince yourself that they are algebraically equivalent. Can you numerically demonstrate that the modified formulation is more accurate in floating point arithmetic?"
   ]
  }
 ],
 "metadata": {
  "kernelspec": {
   "display_name": "Python [conda env:dev]",
   "language": "python",
   "name": "conda-env-dev-py"
  },
  "language_info": {
   "codemirror_mode": {
    "name": "ipython",
    "version": 3
   },
   "file_extension": ".py",
   "mimetype": "text/x-python",
   "name": "python",
   "nbconvert_exporter": "python",
   "pygments_lexer": "ipython3",
   "version": "3.8.6"
  }
 },
 "nbformat": 4,
 "nbformat_minor": 4
}
