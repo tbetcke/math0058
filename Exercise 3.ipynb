{
 "cells": [
  {
   "cell_type": "markdown",
   "metadata": {},
   "source": [
    "# Exercise 3"
   ]
  },
  {
   "cell_type": "markdown",
   "metadata": {},
   "source": [
    "1.) Implement a method `P,L,U = partial_pivot_lu(A)` that, given a matrix A, computes an LU decomposition with partial pivoting, such that $PA = LU$."
   ]
  },
  {
   "cell_type": "code",
   "execution_count": 1,
   "metadata": {},
   "outputs": [
    {
     "name": "stdout",
     "output_type": "stream",
     "text": [
      "Residual with Scipy LU: 1.1998519369037212e-15\n",
      "Residual with partial pivot LU: 2.7369538826506205e-15\n"
     ]
    }
   ],
   "source": [
    "import numpy as np\n",
    "from scipy.linalg import solve_triangular\n",
    "from scipy.linalg import lu\n",
    "\n",
    "def partial_pivot_lu(A):\n",
    "    \"\"\"Implementation of a pivoted LU decomposition.\"\"\"\n",
    "    \n",
    "    import numpy as np\n",
    "    \n",
    "    # Return an error if matrix is not square\n",
    "    if not A.shape[0]==A.shape[1]:\n",
    "        raise ValueError(\"Input matrix must be square\")\n",
    "        \n",
    "    n = A.shape[0] # The number of rows/columns of A\n",
    "    p = np.arange(n) # The permutation vector\n",
    "    \n",
    "    L = np.zeros((n,n),dtype='float64') # Reserve space for L\n",
    "    U = np.zeros((n,n),dtype='float64') # Reserve space for U\n",
    "    U[:] = A # Copy A into U as we do not want to modify A\n",
    "    np.fill_diagonal(L,1) # fill the diagonal of L with 1\n",
    "    \n",
    "    for i in range(n-1):\n",
    "        # The outer iteration\n",
    "        # Permute the rows to ensure the element with largest magnitude is on top\n",
    "        # Find the maximum index\n",
    "        # Update U, L and p\n",
    "        for j in range(i+1,n):\n",
    "            L[j,i] = U[j,i]/U[i,i]\n",
    "            U[j,i:] = U[j,i:]-L[j,i]*U[i,i:]\n",
    "            U[j,i] = 0\n",
    "    # The vector p stores the forward permutations.\n",
    "    # However, the matrix P needs to reverse the permutations again.\n",
    "    # We can do this by forming P = np.eye(n)[:,p].T, that is by\n",
    "    # taking the transpose or directly by forming\n",
    "    # P = np.eye(n)[p,:]\n",
    "    P = np.eye(n)[p,:] \n",
    "    return (P,L,U)\n",
    "\n",
    "n = 10\n",
    "\n",
    "A = np.random.randn(n, n)\n",
    "b = np.random.randn(n)\n",
    "\n",
    "# Example solution with Scipy\n",
    "# Note that Scipy computes A = PLU and not PA=LU.\n",
    "P, L, U = lu(A)\n",
    "x_compare = solve_triangular(\n",
    "    U, solve_triangular(L, P.T @ b, lower=True))\n",
    "# Print the residual\n",
    "print(f\"Residual with Scipy LU: {np.linalg.norm(b - A @ x_compare)}\")\n",
    "\n",
    "P2, L2, U2 = partial_pivot_lu(A)\n",
    "x_pivot = solve_triangular(\n",
    "    U2, solve_triangular(L2, P2 @ b, lower=True))\n",
    "print(f\"Residual with partial pivot LU: {np.linalg.norm(b - A @ x_pivot)}\")"
   ]
  },
  {
   "cell_type": "code",
   "execution_count": null,
   "metadata": {},
   "outputs": [],
   "source": []
  }
 ],
 "metadata": {
  "anaconda-cloud": {},
  "kernelspec": {
   "display_name": "Python [conda env:dev]",
   "language": "python",
   "name": "conda-env-dev-py"
  },
  "language_info": {
   "codemirror_mode": {
    "name": "ipython",
    "version": 3
   },
   "file_extension": ".py",
   "mimetype": "text/x-python",
   "name": "python",
   "nbconvert_exporter": "python",
   "pygments_lexer": "ipython3",
   "version": "3.8.6"
  }
 },
 "nbformat": 4,
 "nbformat_minor": 4
}
