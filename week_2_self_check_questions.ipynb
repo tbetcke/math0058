{
 "cells": [
  {
   "cell_type": "markdown",
   "metadata": {},
   "source": [
    "# Week 2 Self Check Questions"
   ]
  },
  {
   "cell_type": "markdown",
   "metadata": {},
   "source": [
    "**Question 1:**\n",
    "\n",
    "State the relative forward error, backward error, and condition number for the linear system of equations $Ax=b$.\n",
    "\n",
    "**Question 2:**\n",
    "\n",
    "Assuming you are working in single precision floating point arithmetic and you have a backward stable algorithm for a problem with condition number $\\kappa = 10^{3}$. How many correct digits do you expect in your solution?"
   ]
  },
  {
   "cell_type": "markdown",
   "metadata": {},
   "source": [
    "**Question 3:**\n",
    "\n",
    "Compute the $1-$norm condition number of\n",
    "\n",
    "$$\n",
    "A = \\begin{bmatrix}1 & 1\\\\ 0 & \\epsilon\\end{bmatrix}\n",
    "$$\n",
    "\n",
    "in dependence of $\\epsilon$. What happens as $\\epsilon\\rightarrow 0$?"
   ]
  },
  {
   "cell_type": "markdown",
   "metadata": {},
   "source": [
    "**Question 4**:\n",
    "\n",
    "Let $x\\in\\mathbb{R}^2$ and $f(x) = x_1 - x_2$. Compute the $\\infty$-norm condition number of $f$. Hint: Use the expression for the condition number of a differentiable function. For what inputs is the condition number large?"
   ]
  }
 ],
 "metadata": {
  "kernelspec": {
   "display_name": "Python [conda env:dev]",
   "language": "python",
   "name": "conda-env-dev-py"
  },
  "language_info": {
   "codemirror_mode": {
    "name": "ipython",
    "version": 3
   },
   "file_extension": ".py",
   "mimetype": "text/x-python",
   "name": "python",
   "nbconvert_exporter": "python",
   "pygments_lexer": "ipython3",
   "version": "3.8.6"
  }
 },
 "nbformat": 4,
 "nbformat_minor": 4
}
