{
  "cells": [
    {
      "metadata": {
        "slideshow": {
          "slide_type": "slide"
        }
      },
      "cell_type": "markdown",
      "source": "# Floating Point Arithmetic"
    },
    {
      "metadata": {
        "slideshow": {
          "slide_type": "fragment"
        }
      },
      "cell_type": "markdown",
      "source": "* Finite computing and memory capacity\n* Need to find a way to represent floating point numbers\n* IEEE 754 defines common standard on modern computers to represent floating\npoint numbers.\n* Two most commonly used types: `IEEE double precision` and `IEEE single precision`.\n"
    },
    {
      "metadata": {
        "slideshow": {
          "slide_type": "slide"
        }
      },
      "cell_type": "markdown",
      "source": "## Floating point types in Python"
    },
    {
      "metadata": {
        "slideshow": {
          "slide_type": "fragment"
        }
      },
      "cell_type": "markdown",
      "source": "The Numpy module defines convenient ways to query properties of floating point numbers."
    },
    {
      "metadata": {
        "slideshow": {
          "slide_type": "fragment"
        },
        "trusted": true
      },
      "cell_type": "code",
      "source": "import numpy as np # import the numpy extension module\n                   # and call it np as short form",
      "execution_count": 1,
      "outputs": []
    },
    {
      "metadata": {
        "slideshow": {
          "slide_type": "fragment"
        }
      },
      "cell_type": "markdown",
      "source": "The data type names in `Numpy` for floating point types are:\n\n* `IEEE double precision`: np.float, np.double, np.float64\n* `IEEE single precision`: np.single, np.float32\n"
    },
    {
      "metadata": {
        "slideshow": {
          "slide_type": "subslide"
        }
      },
      "cell_type": "markdown",
      "source": "Let us query some properties of these numbers"
    },
    {
      "metadata": {
        "slideshow": {
          "slide_type": "fragment"
        },
        "trusted": true
      },
      "cell_type": "code",
      "source": "double_precision_info = np.finfo(np.float64)",
      "execution_count": 2,
      "outputs": []
    },
    {
      "metadata": {
        "slideshow": {
          "slide_type": "fragment"
        }
      },
      "cell_type": "markdown",
      "source": "The biggest and smallest (by absolute value) normalized floating point numbers are"
    },
    {
      "metadata": {
        "slideshow": {
          "slide_type": "fragment"
        },
        "trusted": true
      },
      "cell_type": "code",
      "source": "double_precision_info.max",
      "execution_count": 3,
      "outputs": [
        {
          "output_type": "execute_result",
          "execution_count": 3,
          "data": {
            "text/plain": "1.7976931348623157e+308"
          },
          "metadata": {}
        }
      ]
    },
    {
      "metadata": {
        "slideshow": {
          "slide_type": "fragment"
        },
        "trusted": true
      },
      "cell_type": "code",
      "source": "double_precision_info.tiny",
      "execution_count": 4,
      "outputs": [
        {
          "output_type": "execute_result",
          "execution_count": 4,
          "data": {
            "text/plain": "2.2250738585072014e-308"
          },
          "metadata": {}
        }
      ]
    },
    {
      "metadata": {
        "slideshow": {
          "slide_type": "subslide"
        }
      },
      "cell_type": "markdown",
      "source": "Floating point numbers can not be arbitrarily close to each other. There is a smallest relative distance, which we define shortly. It is given as"
    },
    {
      "metadata": {
        "slideshow": {
          "slide_type": "fragment"
        },
        "trusted": true
      },
      "cell_type": "code",
      "source": "double_precision_info.eps",
      "execution_count": 5,
      "outputs": [
        {
          "output_type": "execute_result",
          "execution_count": 5,
          "data": {
            "text/plain": "2.220446049250313e-16"
          },
          "metadata": {}
        }
      ]
    },
    {
      "metadata": {
        "slideshow": {
          "slide_type": "fragment"
        }
      },
      "cell_type": "markdown",
      "source": "This leads to a limited precision of floating point numbers. The approximate relative precision is"
    },
    {
      "metadata": {
        "slideshow": {
          "slide_type": "fragment"
        },
        "trusted": true
      },
      "cell_type": "code",
      "source": "double_precision_info.precision",
      "execution_count": 6,
      "outputs": [
        {
          "output_type": "execute_result",
          "execution_count": 6,
          "data": {
            "text/plain": "15"
          },
          "metadata": {}
        }
      ]
    },
    {
      "metadata": {
        "slideshow": {
          "slide_type": "subslide"
        }
      },
      "cell_type": "markdown",
      "source": "### Task: What are the values for single precision arithmetic?"
    },
    {
      "metadata": {
        "slideshow": {
          "slide_type": "fragment"
        },
        "trusted": true
      },
      "cell_type": "code",
      "source": "single_precision_info = np.finfo(np.float32)\nprint([single_precision_info.max,\n       single_precision_info.tiny,\n       single_precision_info.eps,\n       single_precision_info.precision])",
      "execution_count": 7,
      "outputs": [
        {
          "output_type": "stream",
          "text": "[3.4028235e+38, 1.1754944e-38, 1.1920929e-07, 6]\n",
          "name": "stdout"
        }
      ]
    },
    {
      "metadata": {
        "slideshow": {
          "slide_type": "slide"
        }
      },
      "cell_type": "markdown",
      "source": "## Definition of floating point numbers"
    },
    {
      "metadata": {
        "slideshow": {
          "slide_type": "fragment"
        }
      },
      "cell_type": "markdown",
      "source": "The set of floating point numbers is defined as follows:\n\n$$\n\\mathcal{F} = \\left\\{(-1)^s\\cdot b^e \\cdot \\frac{m}{b^{p-1}} :\\right.\n\\left. s = 0,1; e_{min}\\leq e \\leq e_{max}; b^{p-1}\\leq m\\leq b^{p}-1\\right\\}.\n$$\n\n* `IEEE double precision`: $e_{min} = -1022, e_{max} = 1023, p = 53$\n* `IEEE single precision`: $e_{min} = -126, e_{max} = 127, p = 24$"
    },
    {
      "metadata": {
        "slideshow": {
          "slide_type": "subslide"
        }
      },
      "cell_type": "markdown",
      "source": "Typically, b = 2. For Mantissa have:\n\n$$\n\\frac{m}{b^{p-1}} = 1, 1+b^{1-p}, 1+2b^{1-p}, \\dots, b-b^{1-p}\n$$\n\n$\\rightarrow$ Distance of neighbouring floats is $2^e b^{1-p}$.\n\n$\\epsilon_{rel} = b^{1-p}$ is smallest number such that\n$$\n1 + \\epsilon_{rel} \\neq 1.\n$$"
    },
    {
      "metadata": {
        "slideshow": {
          "slide_type": "fragment"
        },
        "trusted": true
      },
      "cell_type": "code",
      "source": "1 + double_precision_info.eps",
      "execution_count": 8,
      "outputs": [
        {
          "output_type": "execute_result",
          "execution_count": 8,
          "data": {
            "text/plain": "1.0000000000000002"
          },
          "metadata": {}
        }
      ]
    },
    {
      "metadata": {
        "slideshow": {
          "slide_type": "fragment"
        },
        "trusted": true
      },
      "cell_type": "code",
      "source": "1 + .25 * double_precision_info.eps",
      "execution_count": 15,
      "outputs": [
        {
          "output_type": "execute_result",
          "execution_count": 15,
          "data": {
            "text/plain": "1.0"
          },
          "metadata": {}
        }
      ]
    },
    {
      "metadata": {
        "slideshow": {
          "slide_type": "slide"
        }
      },
      "cell_type": "markdown",
      "source": "## Approximating numbers in floating point arithmetic\nLet $x\\in\\mathbb{R}$, $b^{e_{min}}\\leq x < b^{e_{max}+1}$. Define $\\epsilon_{mach}:=\\frac{1}{2}b^{1-p}$\n\nThere exists $x'\\in \\mathcal{F}$ such that $|x-x'|\\leq\\epsilon_{mach}|x|$.\n\n**$\\epsilon_{mach}$ is relative distance to the next floating point number in $\\mathcal{F}$.**\n\nDefine the projection\n$$fl:fl(x)\\rightarrow x',$$\nwhere $x'$ is the closest floating point number in $\\mathcal{F}$. \n\nIt follows that $fl(x)=x*(1+\\epsilon)$ for some $|\\epsilon|\\leq \\epsilon_{mach}$."
    },
    {
      "metadata": {
        "slideshow": {
          "slide_type": "subslide"
        }
      },
      "cell_type": "markdown",
      "source": "**Fundamental Axiom of Floating Point Arithmetic**\nDefine $x\\odot y = fl(x \\cdot y)$, where $\\cdot$ is one of $+,-,\\times,\\div$. Then for all $x,y\\in\\mathcal{F}$ there exists $\\epsilon$ with $|\\epsilon| \\leq \\epsilon_{mach}$ such that\n$$ x\\odot y = (x \\cdot y)(1+\\epsilon).$$\n\nMost modern architectures guarantee this property."
    },
    {
      "metadata": {
        "slideshow": {
          "slide_type": "slide"
        }
      },
      "cell_type": "markdown",
      "source": "## Special symbols in floating point arithmetic\n\nIn addition to numbers several other important symbols are defined in the floating point standard. The most important are:\n\n* NaN: Not a number\n* $\\pm$inf"
    },
    {
      "metadata": {
        "slideshow": {
          "slide_type": "fragment"
        },
        "trusted": true
      },
      "cell_type": "code",
      "source": "import numpy as np\na = np.inf\nb = np.float64(0) / 0\nprint(b)",
      "execution_count": 18,
      "outputs": [
        {
          "output_type": "stream",
          "text": "nan\n",
          "name": "stdout"
        },
        {
          "output_type": "stream",
          "text": "/home/nbuser/anaconda3_501/lib/python3.6/site-packages/ipykernel/__main__.py:3: RuntimeWarning: invalid value encountered in double_scalars\n  app.launch_new_instance()\n",
          "name": "stderr"
        }
      ]
    },
    {
      "metadata": {
        "collapsed": true,
        "trusted": false
      },
      "cell_type": "code",
      "source": "",
      "execution_count": null,
      "outputs": []
    }
  ],
  "metadata": {
    "anaconda-cloud": {},
    "celltoolbar": "Slideshow",
    "kernelspec": {
      "name": "python36",
      "display_name": "Python 3.6",
      "language": "python"
    },
    "language_info": {
      "mimetype": "text/x-python",
      "nbconvert_exporter": "python",
      "name": "python",
      "pygments_lexer": "ipython3",
      "version": "3.6.6",
      "file_extension": ".py",
      "codemirror_mode": {
        "version": 3,
        "name": "ipython"
      }
    }
  },
  "nbformat": 4,
  "nbformat_minor": 2
}